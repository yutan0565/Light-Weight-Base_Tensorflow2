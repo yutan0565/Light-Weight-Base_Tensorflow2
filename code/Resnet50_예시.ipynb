{
  "cells": [
    {
      "cell_type": "markdown",
      "metadata": {
        "id": "view-in-github",
        "colab_type": "text"
      },
      "source": [
        "<a href=\"https://colab.research.google.com/github/yutan0565/colab_git/blob/main/code/Resnet50_%EC%98%88%EC%8B%9C.ipynb\" target=\"_parent\"><img src=\"https://colab.research.google.com/assets/colab-badge.svg\" alt=\"Open In Colab\"/></a>"
      ]
    },
    {
      "cell_type": "markdown",
      "metadata": {
        "id": "qTOd0ahJOZsr"
      },
      "source": [
        "## 기본 모델 형성"
      ]
    },
    {
      "cell_type": "code",
      "execution_count": 1,
      "metadata": {
        "colab": {
          "base_uri": "https://localhost:8080/"
        },
        "id": "ZNI1wdG4N7yF",
        "outputId": "536c3c6c-2b84-45cc-bff7-96c26bb4381e"
      },
      "outputs": [
        {
          "output_type": "stream",
          "name": "stdout",
          "text": [
            "\u001b[?25l\r\u001b[K     |█▍                              | 10 kB 13.6 MB/s eta 0:00:01\r\u001b[K     |██▊                             | 20 kB 8.2 MB/s eta 0:00:01\r\u001b[K     |████▏                           | 30 kB 6.1 MB/s eta 0:00:01\r\u001b[K     |█████▌                          | 40 kB 6.1 MB/s eta 0:00:01\r\u001b[K     |███████                         | 51 kB 3.5 MB/s eta 0:00:01\r\u001b[K     |████████▎                       | 61 kB 4.1 MB/s eta 0:00:01\r\u001b[K     |█████████▋                      | 71 kB 4.3 MB/s eta 0:00:01\r\u001b[K     |███████████                     | 81 kB 4.8 MB/s eta 0:00:01\r\u001b[K     |████████████▍                   | 92 kB 4.9 MB/s eta 0:00:01\r\u001b[K     |█████████████▉                  | 102 kB 4.2 MB/s eta 0:00:01\r\u001b[K     |███████████████▏                | 112 kB 4.2 MB/s eta 0:00:01\r\u001b[K     |████████████████▌               | 122 kB 4.2 MB/s eta 0:00:01\r\u001b[K     |██████████████████              | 133 kB 4.2 MB/s eta 0:00:01\r\u001b[K     |███████████████████▎            | 143 kB 4.2 MB/s eta 0:00:01\r\u001b[K     |████████████████████▊           | 153 kB 4.2 MB/s eta 0:00:01\r\u001b[K     |██████████████████████          | 163 kB 4.2 MB/s eta 0:00:01\r\u001b[K     |███████████████████████▌        | 174 kB 4.2 MB/s eta 0:00:01\r\u001b[K     |████████████████████████▉       | 184 kB 4.2 MB/s eta 0:00:01\r\u001b[K     |██████████████████████████▏     | 194 kB 4.2 MB/s eta 0:00:01\r\u001b[K     |███████████████████████████▋    | 204 kB 4.2 MB/s eta 0:00:01\r\u001b[K     |█████████████████████████████   | 215 kB 4.2 MB/s eta 0:00:01\r\u001b[K     |██████████████████████████████▍ | 225 kB 4.2 MB/s eta 0:00:01\r\u001b[K     |███████████████████████████████▊| 235 kB 4.2 MB/s eta 0:00:01\r\u001b[K     |████████████████████████████████| 237 kB 4.2 MB/s \n",
            "\u001b[?25h"
          ]
        }
      ],
      "source": [
        "!pip install -q tensorflow-model-optimization"
      ]
    },
    {
      "cell_type": "code",
      "execution_count": 2,
      "metadata": {
        "id": "pZRQ2Jc4OCS1"
      },
      "outputs": [],
      "source": [
        "import tensorflow as tf\n",
        "import matplotlib.pyplot as plt\n",
        "import numpy as np\n",
        "import pathlib\n",
        "import os\n",
        "import datetime\n",
        "import time\n",
        "import tempfile\n",
        "import pathlib\n",
        "\n",
        "from tensorflow.keras.applications import ResNet50\n",
        "from tensorflow.keras import models\n",
        "from tensorflow.keras import layers\n",
        "from tensorflow import keras\n",
        "from tensorflow.keras.callbacks import EarlyStopping, ModelCheckpoint, ReduceLROnPlateau, CSVLogger, TensorBoard\n",
        "import tensorflow_model_optimization as tfmot"
      ]
    },
    {
      "cell_type": "code",
      "execution_count": 3,
      "metadata": {
        "colab": {
          "base_uri": "https://localhost:8080/"
        },
        "id": "7R6Yikb4OCuf",
        "outputId": "2f0c3996-a46b-4fa1-a99d-25587aaef175"
      },
      "outputs": [
        {
          "output_type": "stream",
          "name": "stdout",
          "text": [
            "Downloading data from https://www.cs.toronto.edu/~kriz/cifar-10-python.tar.gz\n",
            "170500096/170498071 [==============================] - 11s 0us/step\n",
            "170508288/170498071 [==============================] - 11s 0us/step\n"
          ]
        }
      ],
      "source": [
        "# Cifar_10 데이터 불러오기\n",
        "(raw_train_x, raw_train_y), (raw_test_x, raw_test_y) = tf.keras.datasets.cifar10.load_data()\n",
        "\n",
        "# train, val, test 분리 및 scale 조정\n",
        "train_x = raw_train_x[:45000].astype(np.float32)/255.0\n",
        "valid_x = raw_train_x[45000:].astype(np.float32)/255.0\n",
        "test_x = raw_test_x.astype(np.float32)/255.0\n",
        "\n",
        "\n",
        "train_y = raw_train_y[:45000]\n",
        "valid_y = raw_train_y[45000:]\n",
        "test_y = raw_test_y\n",
        "labels = [\"airplane\", \"automobile\", \"bird\", \"cat\", \"deer\", \"dog\", \"frog\", \"horse\", \"ship\", \"truck\"]"
      ]
    },
    {
      "cell_type": "code",
      "execution_count": 4,
      "metadata": {
        "colab": {
          "base_uri": "https://localhost:8080/"
        },
        "id": "Wwn3NFrmOFeq",
        "outputId": "27b8c804-2ebb-474d-e0f5-359e45960378"
      },
      "outputs": [
        {
          "output_type": "stream",
          "name": "stdout",
          "text": [
            "Downloading data from https://storage.googleapis.com/tensorflow/keras-applications/resnet/resnet50_weights_tf_dim_ordering_tf_kernels_notop.h5\n",
            "94773248/94765736 [==============================] - 1s 0us/step\n",
            "94781440/94765736 [==============================] - 1s 0us/step\n",
            "Model: \"sequential_1\"\n",
            "_________________________________________________________________\n",
            " Layer (type)                Output Shape              Param #   \n",
            "=================================================================\n",
            " resnet50 (Functional)       (None, 1, 1, 2048)        23587712  \n",
            "                                                                 \n",
            " sequential (Sequential)     (None, 10)                4207626   \n",
            "                                                                 \n",
            "=================================================================\n",
            "Total params: 27,795,338\n",
            "Trainable params: 27,742,218\n",
            "Non-trainable params: 53,120\n",
            "_________________________________________________________________\n"
          ]
        }
      ],
      "source": [
        "# 모델 불러오기 Conv-layer \n",
        "resnet = ResNet50(  #weights = 'imagenet',  #그냥 초기화 하는거면, 이거 지우기\n",
        "                            include_top = False,\n",
        "                            input_shape=(32,32,3)\n",
        "                            )\n",
        "\n",
        "# FC layer는 다른거 사용   --  Class 10 개 분류\n",
        "fc_layer = keras.Sequential([\n",
        "                             layers.Flatten(),\n",
        "                             layers.Dense(1024, activation = 'relu'),\n",
        "                             layers.Dense(1024, activation = 'relu'),\n",
        "                             layers.Dense(1024, activation = 'relu'),\n",
        "                             layers.Dense(10, activation = \"sigmoid\")\n",
        "                             ])\n",
        "\n",
        "model = keras.Sequential([resnet,\n",
        "                          fc_layer\n",
        "                          ])\n",
        "model.summary()\n"
      ]
    },
    {
      "cell_type": "code",
      "execution_count": 5,
      "metadata": {
        "id": "VuUFfKa1OIUa"
      },
      "outputs": [],
      "source": [
        "# Callback 함수 지정 해주기      학습하는 동안 설정해줄것\n",
        "early_stop = EarlyStopping(patience=30) \n",
        "mc = ModelCheckpoint(\"./best_model/resnet_original_checkpoint\", \n",
        "                     save_best_only=True,\n",
        "                     monitor = 'val_loss',\n",
        "                     verbose = 1,\n",
        "                     mode = 'min') \n",
        "reduce_lr  = ReduceLROnPlateau(monitor = 'val_loss',\n",
        "                               factor=0.5, \n",
        "                               patience=5\n",
        "                               ) \n",
        "\n",
        "#optimizer 조정 해주기\n",
        "opt = tf.keras.optimizers.Adam(learning_rate=0.0001)"
      ]
    },
    {
      "cell_type": "code",
      "execution_count": 6,
      "metadata": {
        "colab": {
          "base_uri": "https://localhost:8080/"
        },
        "id": "3K9FF5gmOLH6",
        "outputId": "a6fe2059-924c-41f5-9b1b-41f92cb216c0"
      },
      "outputs": [
        {
          "output_type": "stream",
          "name": "stdout",
          "text": [
            "Epoch 1/100\n",
            "1407/1407 [==============================] - ETA: 0s - loss: 1.1715 - accuracy: 0.5952\n",
            "Epoch 1: val_loss improved from inf to 0.78046, saving model to ./best_model/resnet_original_checkpoint\n",
            "INFO:tensorflow:Assets written to: ./best_model/resnet_original_checkpoint/assets\n",
            "1407/1407 [==============================] - 220s 142ms/step - loss: 1.1715 - accuracy: 0.5952 - val_loss: 0.7805 - val_accuracy: 0.7352 - lr: 1.0000e-04\n",
            "Epoch 2/100\n",
            "1407/1407 [==============================] - ETA: 0s - loss: 0.7306 - accuracy: 0.7529\n",
            "Epoch 2: val_loss improved from 0.78046 to 0.64495, saving model to ./best_model/resnet_original_checkpoint\n",
            "INFO:tensorflow:Assets written to: ./best_model/resnet_original_checkpoint/assets\n",
            "1407/1407 [==============================] - 175s 124ms/step - loss: 0.7306 - accuracy: 0.7529 - val_loss: 0.6450 - val_accuracy: 0.7808 - lr: 1.0000e-04\n",
            "Epoch 3/100\n",
            "1407/1407 [==============================] - ETA: 0s - loss: 0.5562 - accuracy: 0.8110\n",
            "Epoch 3: val_loss improved from 0.64495 to 0.59216, saving model to ./best_model/resnet_original_checkpoint\n",
            "INFO:tensorflow:Assets written to: ./best_model/resnet_original_checkpoint/assets\n",
            "1407/1407 [==============================] - 175s 125ms/step - loss: 0.5562 - accuracy: 0.8110 - val_loss: 0.5922 - val_accuracy: 0.8054 - lr: 1.0000e-04\n",
            "Epoch 4/100\n",
            "1407/1407 [==============================] - ETA: 0s - loss: 0.4353 - accuracy: 0.8534\n",
            "Epoch 4: val_loss did not improve from 0.59216\n",
            "1407/1407 [==============================] - 145s 103ms/step - loss: 0.4353 - accuracy: 0.8534 - val_loss: 0.5985 - val_accuracy: 0.8114 - lr: 1.0000e-04\n",
            "Epoch 5/100\n",
            "1407/1407 [==============================] - ETA: 0s - loss: 0.3379 - accuracy: 0.8861\n",
            "Epoch 5: val_loss did not improve from 0.59216\n",
            "1407/1407 [==============================] - 143s 102ms/step - loss: 0.3379 - accuracy: 0.8861 - val_loss: 0.6447 - val_accuracy: 0.8112 - lr: 1.0000e-04\n",
            "Epoch 6/100\n",
            "1407/1407 [==============================] - ETA: 0s - loss: 0.2663 - accuracy: 0.9118\n",
            "Epoch 6: val_loss did not improve from 0.59216\n",
            "1407/1407 [==============================] - 143s 102ms/step - loss: 0.2663 - accuracy: 0.9118 - val_loss: 0.6361 - val_accuracy: 0.8104 - lr: 1.0000e-04\n",
            "Epoch 7/100\n",
            "1407/1407 [==============================] - ETA: 0s - loss: 0.2144 - accuracy: 0.9297\n",
            "Epoch 7: val_loss did not improve from 0.59216\n",
            "1407/1407 [==============================] - 143s 102ms/step - loss: 0.2144 - accuracy: 0.9297 - val_loss: 0.6645 - val_accuracy: 0.8208 - lr: 1.0000e-04\n",
            "Epoch 8/100\n",
            "1407/1407 [==============================] - ETA: 0s - loss: 0.1747 - accuracy: 0.9423\n",
            "Epoch 8: val_loss did not improve from 0.59216\n",
            "1407/1407 [==============================] - 143s 102ms/step - loss: 0.1747 - accuracy: 0.9423 - val_loss: 0.6528 - val_accuracy: 0.8224 - lr: 1.0000e-04\n",
            "Epoch 9/100\n",
            "1407/1407 [==============================] - ETA: 0s - loss: 0.0791 - accuracy: 0.9739\n",
            "Epoch 9: val_loss did not improve from 0.59216\n",
            "1407/1407 [==============================] - 146s 104ms/step - loss: 0.0791 - accuracy: 0.9739 - val_loss: 0.7702 - val_accuracy: 0.8390 - lr: 5.0000e-05\n",
            "Epoch 10/100\n",
            "1407/1407 [==============================] - ETA: 0s - loss: 0.0537 - accuracy: 0.9824\n",
            "Epoch 10: val_loss did not improve from 0.59216\n",
            "1407/1407 [==============================] - 144s 103ms/step - loss: 0.0537 - accuracy: 0.9824 - val_loss: 0.7890 - val_accuracy: 0.8362 - lr: 5.0000e-05\n",
            "Epoch 11/100\n",
            "1407/1407 [==============================] - ETA: 0s - loss: 0.0494 - accuracy: 0.9836\n",
            "Epoch 11: val_loss did not improve from 0.59216\n",
            "1407/1407 [==============================] - 143s 102ms/step - loss: 0.0494 - accuracy: 0.9836 - val_loss: 0.7697 - val_accuracy: 0.8346 - lr: 5.0000e-05\n",
            "Epoch 12/100\n",
            "1407/1407 [==============================] - ETA: 0s - loss: 0.0443 - accuracy: 0.9858\n",
            "Epoch 12: val_loss did not improve from 0.59216\n",
            "1407/1407 [==============================] - 144s 102ms/step - loss: 0.0443 - accuracy: 0.9858 - val_loss: 0.7392 - val_accuracy: 0.8452 - lr: 5.0000e-05\n",
            "Epoch 13/100\n",
            "1407/1407 [==============================] - ETA: 0s - loss: 0.0377 - accuracy: 0.9873\n",
            "Epoch 13: val_loss did not improve from 0.59216\n",
            "1407/1407 [==============================] - 143s 102ms/step - loss: 0.0377 - accuracy: 0.9873 - val_loss: 0.8218 - val_accuracy: 0.8334 - lr: 5.0000e-05\n",
            "Epoch 14/100\n",
            "1407/1407 [==============================] - ETA: 0s - loss: 0.0184 - accuracy: 0.9939\n",
            "Epoch 14: val_loss did not improve from 0.59216\n",
            "1407/1407 [==============================] - 143s 102ms/step - loss: 0.0184 - accuracy: 0.9939 - val_loss: 0.8877 - val_accuracy: 0.8498 - lr: 2.5000e-05\n",
            "Epoch 15/100\n",
            "1407/1407 [==============================] - ETA: 0s - loss: 0.0141 - accuracy: 0.9954\n",
            "Epoch 15: val_loss did not improve from 0.59216\n",
            "1407/1407 [==============================] - 144s 103ms/step - loss: 0.0141 - accuracy: 0.9954 - val_loss: 0.9484 - val_accuracy: 0.8486 - lr: 2.5000e-05\n",
            "Epoch 16/100\n",
            "1407/1407 [==============================] - ETA: 0s - loss: 0.0130 - accuracy: 0.9956\n",
            "Epoch 16: val_loss did not improve from 0.59216\n",
            "1407/1407 [==============================] - 144s 102ms/step - loss: 0.0130 - accuracy: 0.9956 - val_loss: 0.9583 - val_accuracy: 0.8506 - lr: 2.5000e-05\n",
            "Epoch 17/100\n",
            "1407/1407 [==============================] - ETA: 0s - loss: 0.0127 - accuracy: 0.9958\n",
            "Epoch 17: val_loss did not improve from 0.59216\n",
            "1407/1407 [==============================] - 144s 102ms/step - loss: 0.0127 - accuracy: 0.9958 - val_loss: 0.9568 - val_accuracy: 0.8482 - lr: 2.5000e-05\n",
            "Epoch 18/100\n",
            "1407/1407 [==============================] - ETA: 0s - loss: 0.0125 - accuracy: 0.9962\n",
            "Epoch 18: val_loss did not improve from 0.59216\n",
            "1407/1407 [==============================] - 145s 103ms/step - loss: 0.0125 - accuracy: 0.9962 - val_loss: 0.9281 - val_accuracy: 0.8478 - lr: 2.5000e-05\n",
            "Epoch 19/100\n",
            "1407/1407 [==============================] - ETA: 0s - loss: 0.0070 - accuracy: 0.9978\n",
            "Epoch 19: val_loss did not improve from 0.59216\n",
            "1407/1407 [==============================] - 142s 101ms/step - loss: 0.0070 - accuracy: 0.9978 - val_loss: 0.9530 - val_accuracy: 0.8512 - lr: 1.2500e-05\n",
            "Epoch 20/100\n",
            "1407/1407 [==============================] - ETA: 0s - loss: 0.0048 - accuracy: 0.9986\n",
            "Epoch 20: val_loss did not improve from 0.59216\n",
            "1407/1407 [==============================] - 142s 101ms/step - loss: 0.0048 - accuracy: 0.9986 - val_loss: 1.0006 - val_accuracy: 0.8542 - lr: 1.2500e-05\n",
            "Epoch 21/100\n",
            "1407/1407 [==============================] - ETA: 0s - loss: 0.0048 - accuracy: 0.9985\n",
            "Epoch 21: val_loss did not improve from 0.59216\n",
            "1407/1407 [==============================] - 143s 102ms/step - loss: 0.0048 - accuracy: 0.9985 - val_loss: 1.0220 - val_accuracy: 0.8522 - lr: 1.2500e-05\n",
            "Epoch 22/100\n",
            "1407/1407 [==============================] - ETA: 0s - loss: 0.0043 - accuracy: 0.9986\n",
            "Epoch 22: val_loss did not improve from 0.59216\n",
            "1407/1407 [==============================] - 142s 101ms/step - loss: 0.0043 - accuracy: 0.9986 - val_loss: 1.0356 - val_accuracy: 0.8540 - lr: 1.2500e-05\n",
            "Epoch 23/100\n",
            "1407/1407 [==============================] - ETA: 0s - loss: 0.0049 - accuracy: 0.9984\n",
            "Epoch 23: val_loss did not improve from 0.59216\n",
            "1407/1407 [==============================] - 145s 103ms/step - loss: 0.0049 - accuracy: 0.9984 - val_loss: 1.0325 - val_accuracy: 0.8548 - lr: 1.2500e-05\n",
            "Epoch 24/100\n",
            "1407/1407 [==============================] - ETA: 0s - loss: 0.0025 - accuracy: 0.9991\n",
            "Epoch 24: val_loss did not improve from 0.59216\n",
            "1407/1407 [==============================] - 144s 102ms/step - loss: 0.0025 - accuracy: 0.9991 - val_loss: 1.0456 - val_accuracy: 0.8544 - lr: 6.2500e-06\n",
            "Epoch 25/100\n",
            "1407/1407 [==============================] - ETA: 0s - loss: 0.0032 - accuracy: 0.9989\n",
            "Epoch 25: val_loss did not improve from 0.59216\n",
            "1407/1407 [==============================] - 144s 102ms/step - loss: 0.0032 - accuracy: 0.9989 - val_loss: 1.0694 - val_accuracy: 0.8526 - lr: 6.2500e-06\n",
            "Epoch 26/100\n",
            "1407/1407 [==============================] - ETA: 0s - loss: 0.0021 - accuracy: 0.9994\n",
            "Epoch 26: val_loss did not improve from 0.59216\n",
            "1407/1407 [==============================] - 144s 102ms/step - loss: 0.0021 - accuracy: 0.9994 - val_loss: 1.1046 - val_accuracy: 0.8540 - lr: 6.2500e-06\n",
            "Epoch 27/100\n",
            "1407/1407 [==============================] - ETA: 0s - loss: 0.0018 - accuracy: 0.9994\n",
            "Epoch 27: val_loss did not improve from 0.59216\n",
            "1407/1407 [==============================] - 143s 102ms/step - loss: 0.0018 - accuracy: 0.9994 - val_loss: 1.1119 - val_accuracy: 0.8564 - lr: 6.2500e-06\n",
            "Epoch 28/100\n",
            "1407/1407 [==============================] - ETA: 0s - loss: 0.0018 - accuracy: 0.9994\n",
            "Epoch 28: val_loss did not improve from 0.59216\n",
            "1407/1407 [==============================] - 145s 103ms/step - loss: 0.0018 - accuracy: 0.9994 - val_loss: 1.1387 - val_accuracy: 0.8546 - lr: 6.2500e-06\n",
            "Epoch 29/100\n",
            "1407/1407 [==============================] - ETA: 0s - loss: 0.0014 - accuracy: 0.9995\n",
            "Epoch 29: val_loss did not improve from 0.59216\n",
            "1407/1407 [==============================] - 144s 102ms/step - loss: 0.0014 - accuracy: 0.9995 - val_loss: 1.1244 - val_accuracy: 0.8562 - lr: 3.1250e-06\n",
            "Epoch 30/100\n",
            "1407/1407 [==============================] - ETA: 0s - loss: 9.6337e-04 - accuracy: 0.9997\n",
            "Epoch 30: val_loss did not improve from 0.59216\n",
            "1407/1407 [==============================] - 144s 102ms/step - loss: 9.6337e-04 - accuracy: 0.9997 - val_loss: 1.1381 - val_accuracy: 0.8562 - lr: 3.1250e-06\n",
            "Epoch 31/100\n",
            "1407/1407 [==============================] - ETA: 0s - loss: 0.0019 - accuracy: 0.9994\n",
            "Epoch 31: val_loss did not improve from 0.59216\n",
            "1407/1407 [==============================] - 145s 103ms/step - loss: 0.0019 - accuracy: 0.9994 - val_loss: 1.1438 - val_accuracy: 0.8538 - lr: 3.1250e-06\n",
            "Epoch 32/100\n",
            "1407/1407 [==============================] - ETA: 0s - loss: 0.0011 - accuracy: 0.9997\n",
            "Epoch 32: val_loss did not improve from 0.59216\n",
            "1407/1407 [==============================] - 146s 104ms/step - loss: 0.0011 - accuracy: 0.9997 - val_loss: 1.1467 - val_accuracy: 0.8552 - lr: 3.1250e-06\n",
            "Epoch 33/100\n",
            "1407/1407 [==============================] - ETA: 0s - loss: 0.0011 - accuracy: 0.9996\n",
            "Epoch 33: val_loss did not improve from 0.59216\n",
            "1407/1407 [==============================] - 145s 103ms/step - loss: 0.0011 - accuracy: 0.9996 - val_loss: 1.1525 - val_accuracy: 0.8574 - lr: 3.1250e-06\n"
          ]
        },
        {
          "output_type": "execute_result",
          "data": {
            "text/plain": [
              "<keras.callbacks.History at 0x7f8fc042dbd0>"
            ]
          },
          "metadata": {},
          "execution_count": 6
        }
      ],
      "source": [
        "# optimizer, loss 함수를 정의하고,  학습 준비를 한다,  metrics 는 어떤 일이 발생하는지 보여줄 것들\n",
        "model.compile(optimizer=opt, loss=\"sparse_categorical_crossentropy\", metrics=[\"accuracy\"])\n",
        "\n",
        "\n",
        "\n",
        "# 한번에 몇개의 데이터 학습하고 가중치 갱신할지 \n",
        "model.fit(train_x, train_y,\n",
        "          epochs=100,\n",
        "          verbose=1,\n",
        "          batch_size=32,\n",
        "          #validation_split = 0.1\n",
        "          validation_data = (valid_x, valid_y),\n",
        "          callbacks = [early_stop, reduce_lr , mc]\n",
        "          )"
      ]
    },
    {
      "cell_type": "code",
      "execution_count": 7,
      "metadata": {
        "colab": {
          "base_uri": "https://localhost:8080/"
        },
        "id": "0rxjhscjOR5w",
        "outputId": "588a8436-3478-49aa-af3c-914e2f1e0709"
      },
      "outputs": [
        {
          "output_type": "stream",
          "name": "stdout",
          "text": [
            "313/313 [==============================] - 9s 28ms/step - loss: 1.3100 - accuracy: 0.8398\n",
            "loss= 1.3100165128707886\n",
            "acc= 0.8398000001907349\n",
            "[3 1 8 ... 5 0 7]\n"
          ]
        }
      ],
      "source": [
        "loss, acc = model.evaluate(test_x, test_y)\n",
        "print(\"loss=\",loss)\n",
        "print(\"acc=\",acc)\n",
        "\n",
        "# soft-max 형태로 결과가 나옴\n",
        "y_ = model.predict(test_x)\n",
        "\n",
        "# 모든 test_x 에 대해서 예측을 진행\n",
        "predicted = np.argmax(y_, axis=1)\n",
        "print(predicted)\n"
      ]
    },
    {
      "cell_type": "code",
      "execution_count": 8,
      "metadata": {
        "id": "8AuRmRIqOTXd"
      },
      "outputs": [],
      "source": [
        "# Check-Point 형태로 가장 마지막 모델 저장\n",
        "# model.save(\"./saved_model/resnet_original.h5\")\n",
        "# model.save(\"./saved_model/resnet_original_checkpoint\")"
      ]
    },
    {
      "cell_type": "markdown",
      "metadata": {
        "id": "PMQkmsTBOdJC"
      },
      "source": [
        "## int_8 Quantization 진행"
      ]
    },
    {
      "cell_type": "code",
      "execution_count": 9,
      "metadata": {
        "id": "8mdt9FmAOUj9"
      },
      "outputs": [],
      "source": [
        "# 구조까지 들어가 있는거\n",
        "model = tf.keras.models.load_model('./best_model/resnet_original_checkpoint')"
      ]
    },
    {
      "cell_type": "code",
      "execution_count": 10,
      "metadata": {
        "id": "mnkSbZd_Oc3R"
      },
      "outputs": [],
      "source": [
        "# Quantization을 위한 point 설정\n",
        "def representative_data_gen():\n",
        "  for input_value in tf.data.Dataset.from_tensor_slices(train_x).batch(1).take(100):\n",
        "    yield [input_value]"
      ]
    },
    {
      "cell_type": "code",
      "execution_count": 11,
      "metadata": {
        "colab": {
          "base_uri": "https://localhost:8080/"
        },
        "id": "qIfHHR7QOm60",
        "outputId": "c911433d-0c4e-4d47-c958-6e6a2bf5f1c0"
      },
      "outputs": [
        {
          "output_type": "stream",
          "name": "stdout",
          "text": [
            "INFO:tensorflow:Assets written to: /tmp/tmpqes2b8jb/assets\n"
          ]
        },
        {
          "output_type": "stream",
          "name": "stderr",
          "text": [
            "WARNING:absl:Buffer deduplication procedure will be skipped when flatbuffer library is not properly loaded\n"
          ]
        }
      ],
      "source": [
        "# 그냥 파일 형태만 tflite로 변환 (float 형태임)\n",
        "converter = tf.lite.TFLiteConverter.from_keras_model(model)\n",
        "tflite_model = converter.convert()"
      ]
    },
    {
      "cell_type": "code",
      "execution_count": 12,
      "metadata": {
        "colab": {
          "base_uri": "https://localhost:8080/"
        },
        "id": "T5NJDbarOlhc",
        "outputId": "ba7a5a32-14e3-47b3-8436-60b2f3fba521"
      },
      "outputs": [
        {
          "output_type": "stream",
          "name": "stdout",
          "text": [
            "INFO:tensorflow:Assets written to: /tmp/tmpswecn3iw/assets\n"
          ]
        },
        {
          "output_type": "stream",
          "name": "stderr",
          "text": [
            "INFO:tensorflow:Assets written to: /tmp/tmpswecn3iw/assets\n",
            "/usr/local/lib/python3.7/dist-packages/tensorflow/lite/python/convert.py:746: UserWarning: Statistics for quantized inputs were expected, but not specified; continuing anyway.\n",
            "  warnings.warn(\"Statistics for quantized inputs were expected, but not \"\n",
            "WARNING:absl:Buffer deduplication procedure will be skipped when flatbuffer library is not properly loaded\n"
          ]
        }
      ],
      "source": [
        "# int 8 로 quantization 진행하기\n",
        "converter = tf.lite.TFLiteConverter.from_keras_model(model)\n",
        "converter.optimizations = [tf.lite.Optimize.DEFAULT]\n",
        "converter.representative_dataset = representative_data_gen\n",
        "\n",
        "converter.target_spec.supported_ops = [tf.lite.OpsSet.TFLITE_BUILTINS_INT8]\n",
        "\n",
        "converter.inference_input_type = tf.uint8\n",
        "converter.inference_output_type = tf.uint8\n",
        "\n",
        "tflite_model_quant = converter.convert()"
      ]
    },
    {
      "cell_type": "code",
      "execution_count": 13,
      "metadata": {
        "colab": {
          "base_uri": "https://localhost:8080/"
        },
        "id": "ncXY1MmKOobq",
        "outputId": "a9ad100a-cd9d-4b71-d104-0d7206dd4d6b"
      },
      "outputs": [
        {
          "output_type": "stream",
          "name": "stdout",
          "text": [
            "input:  <class 'numpy.uint8'>\n",
            "output:  <class 'numpy.uint8'>\n"
          ]
        }
      ],
      "source": [
        "# Quantization 모델의 input, output 변환 잘 되었는지 확인 하기\n",
        "interpreter = tf.lite.Interpreter(model_content=tflite_model_quant)\n",
        "input_type = interpreter.get_input_details()[0]['dtype']\n",
        "print('input: ', input_type)\n",
        "output_type = interpreter.get_output_details()[0]['dtype']\n",
        "print('output: ', output_type)"
      ]
    },
    {
      "cell_type": "code",
      "execution_count": 14,
      "metadata": {
        "id": "7f5da1d2O3tX"
      },
      "outputs": [],
      "source": [
        "# 모델 저장 해주는 과정\n",
        "# tflite 형태 모델을 어디에 저장 해줄까, 폴더 있으면 패스, 없으면 만들어 주기\n",
        "tflite_models_dir = pathlib.Path(\"./tflite/resnet_tflite/\")\n",
        "tflite_models_dir.mkdir(exist_ok=True, parents=True)\n"
      ]
    },
    {
      "cell_type": "code",
      "execution_count": 15,
      "metadata": {
        "colab": {
          "base_uri": "https://localhost:8080/"
        },
        "id": "tZXPnySKOo6w",
        "outputId": "1ff40966-4abf-47dc-c9de-7424556f4fed"
      },
      "outputs": [
        {
          "output_type": "execute_result",
          "data": {
            "text/plain": [
              "28470720"
            ]
          },
          "metadata": {},
          "execution_count": 15
        }
      ],
      "source": [
        "# 일반 모델 tflite 형태로 저장\n",
        "tflite_model_file = tflite_models_dir/\"resnet_original_tflite.tflite\"\n",
        "open(tflite_model_file, \"wb\") .write(tflite_model)\n",
        "\n",
        "# Quantized 모델 tflite 형태로 저장\n",
        "tflite_model_quant_file = tflite_models_dir/\"resnet_quantization_tflite.tflite\"\n",
        "open(tflite_model_quant_file, \"wb\") .write(tflite_model_quant)\n",
        "\n",
        "#tflite_model_quant_file.write_bytes(tflite_model_quant)"
      ]
    },
    {
      "cell_type": "code",
      "execution_count": 16,
      "metadata": {
        "id": "Su6SO1CKOqLi"
      },
      "outputs": [],
      "source": [
        "# tflite 모델 평가에서 사용되는 실행 함수\n",
        "def run_tflite_model(tflite_file, test_image_indices):\n",
        "  global test_x\n",
        "\n",
        "  # Initialize the interpreter\n",
        "  interpreter = tf.lite.Interpreter(model_path=str(tflite_file))\n",
        "  interpreter.allocate_tensors()\n",
        "\n",
        "  input_details = interpreter.get_input_details()[0]\n",
        "  output_details = interpreter.get_output_details()[0]\n",
        "\n",
        "  predictions = np.zeros((len(test_image_indices),), dtype=int)\n",
        "  for i, test_image_index in enumerate(test_image_indices):\n",
        "    test_image = test_x[test_image_index]\n",
        "    test_label = test_y[test_image_index]\n",
        "\n",
        "    # Check if the input type is quantized, then rescale input data to uint8\n",
        "    if input_details['dtype'] == np.uint8:\n",
        "      input_scale, input_zero_point = input_details[\"quantization\"]\n",
        "      test_image = test_image / input_scale + input_zero_point\n",
        "\n",
        "    test_image = np.expand_dims(test_image, axis=0).astype(input_details[\"dtype\"])\n",
        "    interpreter.set_tensor(input_details[\"index\"], test_image)\n",
        "    interpreter.invoke()\n",
        "    output = interpreter.get_tensor(output_details[\"index\"])[0]\n",
        "\n",
        "    predictions[i] = output.argmax()\n",
        "\n",
        "  return predictions"
      ]
    },
    {
      "cell_type": "code",
      "execution_count": 17,
      "metadata": {
        "id": "LqT2rNGPOrh5"
      },
      "outputs": [],
      "source": [
        "def evaluate_model(tflite_file, model_type):\n",
        "  global test_x\n",
        "  global test_y\n",
        "\n",
        "  test_image_indices = range(test_x.shape[0])\n",
        "  predictions = run_tflite_model(tflite_file, test_image_indices)\n",
        "\n",
        "  accuracy = (np.sum(test_y.reshape(-1)== predictions) * 100) / len(test_x)\n",
        "\n",
        "  print('%s model accuracy is %.4f%% (Number of test samples=%d)' % (\n",
        "      model_type, accuracy, len(test_x)))"
      ]
    },
    {
      "cell_type": "code",
      "execution_count": null,
      "metadata": {
        "id": "-CPgDYzNWcnM",
        "scrolled": true
      },
      "outputs": [],
      "source": [
        "# 평가는 뒤에 몰아주기\n",
        "# evaluate_model(tflite_model_file, model_type=\"Float\")\n",
        "# evaluate_model(tflite_model_quant_file, model_type=\"Quantized\")"
      ]
    },
    {
      "cell_type": "code",
      "execution_count": 18,
      "metadata": {
        "id": "WzMjkaIAO3ta"
      },
      "outputs": [],
      "source": [
        "# FPS 측정용 함수\n",
        "def run_tflite_time(tflite_file, test_image_indices):\n",
        "  global test_x\n",
        "\n",
        "  # Initialize the interpreter\n",
        "  interpreter = tf.lite.Interpreter(model_path=str(tflite_file))\n",
        "  interpreter.allocate_tensors()\n",
        "\n",
        "  input_details = interpreter.get_input_details()[0]\n",
        "  output_details = interpreter.get_output_details()[0]\n",
        "\n",
        "  fps = np.zeros((len(test_image_indices),))\n",
        "  for i, test_image_index in enumerate(test_image_indices):\n",
        "    test_image = test_x[test_image_index]\n",
        "    test_label = test_y[test_image_index]\n",
        "\n",
        "    # Check if the input type is quantized, then rescale input data to uint8\n",
        "    if input_details['dtype'] == np.uint8:\n",
        "      input_scale, input_zero_point = input_details[\"quantization\"]\n",
        "      test_image = test_image / input_scale + input_zero_point\n",
        "\n",
        "        \n",
        "    start = time.time()\n",
        "    test_image = np.expand_dims(test_image, axis=0).astype(input_details[\"dtype\"])\n",
        "    interpreter.set_tensor(input_details[\"index\"], test_image)\n",
        "    interpreter.invoke()\n",
        "    output = interpreter.get_tensor(output_details[\"index\"])[0]\n",
        "    end = time.time()\n",
        "    fps[i] = (end - start)\n",
        "\n",
        "  return fps"
      ]
    },
    {
      "cell_type": "code",
      "execution_count": 19,
      "metadata": {
        "id": "SYzMVTwNOsi7"
      },
      "outputs": [],
      "source": [
        "# Change this to test a different image\n",
        "def test_model_time(tflite_file, model_type):\n",
        "  global test_x\n",
        "  test_image_indices = range(test_x.shape[0])\n",
        "  fps = run_tflite_time(tflite_file, test_image_indices)\n",
        "  print(np.mean(fps))\n",
        "  print(1 / np.mean(fps))\n",
        "  print('%s model FPS is %.4f%% (Number of test samples=%d)' % (model_type, 1 / np.mean(fps), len(test_x)))"
      ]
    },
    {
      "cell_type": "code",
      "execution_count": 20,
      "metadata": {
        "id": "3_wYKm4jOtj4",
        "scrolled": true
      },
      "outputs": [],
      "source": [
        "# FPS 측정 뒤로 미루기\n",
        "# test_model_time(tflite_model_file, model_type=\"Float\")\n",
        "# test_model_time(tflite_model_quant_file,  model_type=\"Quantized\")"
      ]
    },
    {
      "cell_type": "markdown",
      "metadata": {
        "id": "Q85dwKpQOwv1"
      },
      "source": [
        "# Pruning 진행"
      ]
    },
    {
      "cell_type": "code",
      "execution_count": 21,
      "metadata": {
        "id": "zrrjcRMUO3tb"
      },
      "outputs": [],
      "source": [
        "model = tf.keras.models.load_model('./best_model/resnet_original_checkpoint')\n",
        "_, keras_file = tempfile.mkstemp('.h5')\n",
        "tf.keras.models.save_model(model, keras_file, include_optimizer=False)\n",
        "\n",
        "# Pruning을 위한 변수 설정\n",
        "prune_low_magnitude = tfmot.sparsity.keras.prune_low_magnitude\n",
        "\n",
        "batch_size = 32\n",
        "epochs = 30\n",
        "validation_split = 0.1 \n",
        "\n",
        "num_images = train_x.shape[0] * (1 - validation_split)\n",
        "end_step = np.ceil(num_images / batch_size).astype(np.int32) * epochs"
      ]
    },
    {
      "cell_type": "code",
      "source": [
        "# Sparsity = 0.2,   pruning하고 다시 학습 시키기\n",
        "pruning_params_2 = {\n",
        "      'pruning_schedule': tfmot.sparsity.keras.ConstantSparsity(target_sparsity=0.2,\n",
        "                                                               begin_step=0,\n",
        "                                                               end_step=-1,\n",
        "                                                               frequency = 100\n",
        "                                                               )\n",
        "}\n",
        "\n",
        "resnet_pruning_pruning_2 = prune_low_magnitude(model, **pruning_params_2)\n",
        "\n",
        "resnet_pruning_pruning_2.compile(optimizer='adam',\n",
        "              loss=tf.keras.losses.SparseCategoricalCrossentropy(from_logits=True),\n",
        "              metrics=['accuracy'])\n",
        "\n",
        "logdir = tempfile.mkdtemp()\n",
        "\n",
        "callbacks = [\n",
        "  tfmot.sparsity.keras.UpdatePruningStep(),\n",
        "  tfmot.sparsity.keras.PruningSummaries(log_dir=logdir),\n",
        "]\n",
        "\n",
        "resnet_pruning_pruning_2.fit(train_x, train_y,\n",
        "                  batch_size=batch_size, epochs=epochs, validation_split=validation_split,\n",
        "                  callbacks=callbacks)"
      ],
      "metadata": {
        "colab": {
          "base_uri": "https://localhost:8080/"
        },
        "id": "gq-UnvfATWr8",
        "outputId": "bfb3ec8d-06a5-4ae5-fe33-01c3b012f266"
      },
      "execution_count": null,
      "outputs": [
        {
          "metadata": {
            "tags": null
          },
          "name": "stderr",
          "output_type": "stream",
          "text": [
            "/usr/local/lib/python3.7/dist-packages/tensorflow_model_optimization/python/core/sparsity/keras/pruning_wrapper.py:238: UserWarning: `layer.add_variable` is deprecated and will be removed in a future version. Please use `layer.add_weight` method instead.\n",
            "  trainable=False)\n",
            "/usr/local/lib/python3.7/dist-packages/tensorflow_model_optimization/python/core/sparsity/keras/pruning_wrapper.py:218: UserWarning: `layer.add_variable` is deprecated and will be removed in a future version. Please use `layer.add_weight` method instead.\n",
            "  aggregation=tf.VariableAggregation.MEAN)\n",
            "/usr/local/lib/python3.7/dist-packages/tensorflow_model_optimization/python/core/sparsity/keras/pruning_wrapper.py:225: UserWarning: `layer.add_variable` is deprecated and will be removed in a future version. Please use `layer.add_weight` method instead.\n",
            "  aggregation=tf.VariableAggregation.MEAN)\n"
          ]
        },
        {
          "metadata": {
            "tags": null
          },
          "name": "stdout",
          "output_type": "stream",
          "text": [
            "Epoch 1/30\n"
          ]
        },
        {
          "metadata": {
            "tags": null
          },
          "name": "stderr",
          "output_type": "stream",
          "text": [
            "/usr/local/lib/python3.7/dist-packages/tensorflow/python/util/dispatch.py:1082: UserWarning: \"`sparse_categorical_crossentropy` received `from_logits=True`, but the `output` argument was produced by a sigmoid or softmax activation and thus does not represent logits. Was this intended?\"\n",
            "  return dispatch_target(*args, **kwargs)\n"
          ]
        },
        {
          "metadata": {
            "tags": null
          },
          "name": "stdout",
          "output_type": "stream",
          "text": [
            "   6/1266 [..............................] - ETA: 4:12 - loss: 1.5084 - accuracy: 0.6719WARNING:tensorflow:Callback method `on_train_batch_end` is slow compared to the batch time (batch time: 0.1233s vs `on_train_batch_end` time: 0.2779s). Check your callbacks.\n"
          ]
        },
        {
          "metadata": {
            "tags": null
          },
          "name": "stderr",
          "output_type": "stream",
          "text": [
            "WARNING:tensorflow:Callback method `on_train_batch_end` is slow compared to the batch time (batch time: 0.1233s vs `on_train_batch_end` time: 0.2779s). Check your callbacks.\n"
          ]
        },
        {
          "output_type": "stream",
          "name": "stdout",
          "text": [
            "1266/1266 [==============================] - 281s 186ms/step - loss: 1.3685 - accuracy: 0.5514 - val_loss: 1.6398 - val_accuracy: 0.5196\n",
            "Epoch 2/30\n",
            "1266/1266 [==============================] - 231s 182ms/step - loss: 1.1698 - accuracy: 0.6068 - val_loss: 1.2508 - val_accuracy: 0.5798\n",
            "Epoch 3/30\n",
            "1266/1266 [==============================] - 227s 179ms/step - loss: 1.0548 - accuracy: 0.6467 - val_loss: 1.4482 - val_accuracy: 0.5127\n",
            "Epoch 4/30\n",
            "1266/1266 [==============================] - 229s 181ms/step - loss: 0.9992 - accuracy: 0.6648 - val_loss: 1.4227 - val_accuracy: 0.5462\n",
            "Epoch 5/30\n",
            "1266/1266 [==============================] - 225s 178ms/step - loss: 0.9339 - accuracy: 0.6833 - val_loss: 1.0791 - val_accuracy: 0.6438\n",
            "Epoch 6/30\n",
            "1266/1266 [==============================] - 226s 178ms/step - loss: 1.0186 - accuracy: 0.6551 - val_loss: 1.0622 - val_accuracy: 0.6380\n",
            "Epoch 7/30\n",
            "1266/1266 [==============================] - 228s 180ms/step - loss: 1.1023 - accuracy: 0.6264 - val_loss: 1.0388 - val_accuracy: 0.6449\n",
            "Epoch 8/30\n",
            "1266/1266 [==============================] - 229s 181ms/step - loss: 0.9070 - accuracy: 0.6934 - val_loss: 1.1013 - val_accuracy: 0.6298\n",
            "Epoch 9/30\n",
            "1266/1266 [==============================] - 228s 180ms/step - loss: 0.9196 - accuracy: 0.6888 - val_loss: 1.5935 - val_accuracy: 0.5051\n",
            "Epoch 10/30\n",
            "1266/1266 [==============================] - 226s 179ms/step - loss: 0.9790 - accuracy: 0.6655 - val_loss: 0.9349 - val_accuracy: 0.6778\n",
            "Epoch 11/30\n",
            "1266/1266 [==============================] - 225s 178ms/step - loss: 0.7253 - accuracy: 0.7565 - val_loss: 1.0121 - val_accuracy: 0.6533\n",
            "Epoch 12/30\n",
            "1266/1266 [==============================] - 229s 181ms/step - loss: 0.7417 - accuracy: 0.7509 - val_loss: 1.3137 - val_accuracy: 0.5636\n",
            "Epoch 13/30\n",
            "1266/1266 [==============================] - 230s 182ms/step - loss: 0.6423 - accuracy: 0.7856 - val_loss: 0.8513 - val_accuracy: 0.7191\n",
            "Epoch 14/30\n",
            "1266/1266 [==============================] - 229s 181ms/step - loss: 0.5347 - accuracy: 0.8225 - val_loss: 1.4010 - val_accuracy: 0.7089\n",
            "Epoch 15/30\n",
            " 734/1266 [================>.............] - ETA: 1:33 - loss: 0.4587 - accuracy: 0.8489"
          ]
        }
      ]
    },
    {
      "cell_type": "code",
      "execution_count": null,
      "metadata": {
        "id": "b3Caw6yTO3tc"
      },
      "outputs": [],
      "source": [
        "# Sparsity = 0.4,   pruning하고 다시 학습 시키기\n",
        "pruning_params_4 = {\n",
        "      'pruning_schedule': tfmot.sparsity.keras.ConstantSparsity(target_sparsity=0.4,\n",
        "                                                               begin_step=0,\n",
        "                                                               end_step=-1,\n",
        "                                                               frequency = 100\n",
        "                                                               )\n",
        "}\n",
        "\n",
        "resnet_pruning_pruning_4 = prune_low_magnitude(model, **pruning_params_4)\n",
        "\n",
        "resnet_pruning_pruning_4.compile(optimizer='adam',\n",
        "              loss=tf.keras.losses.SparseCategoricalCrossentropy(from_logits=True),\n",
        "              metrics=['accuracy'])\n",
        "\n",
        "logdir = tempfile.mkdtemp()\n",
        "\n",
        "callbacks = [\n",
        "  tfmot.sparsity.keras.UpdatePruningStep(),\n",
        "  tfmot.sparsity.keras.PruningSummaries(log_dir=logdir),\n",
        "]\n",
        "\n",
        "resnet_pruning_pruning_4.fit(train_x, train_y,\n",
        "                  batch_size=batch_size, epochs=epochs, validation_split=validation_split,\n",
        "                  callbacks=callbacks)"
      ]
    },
    {
      "cell_type": "code",
      "source": [
        "# Sparsity = 0.6,   pruning하고 다시 학습 시키기\n",
        "pruning_params_6 = {\n",
        "      'pruning_schedule': tfmot.sparsity.keras.ConstantSparsity(target_sparsity=0.6,\n",
        "                                                               begin_step=0,\n",
        "                                                               end_step=-1,\n",
        "                                                               frequency = 100\n",
        "                                                               )\n",
        "}\n",
        "\n",
        "resnet_pruning_pruning_6 = prune_low_magnitude(model, **pruning_params_6)\n",
        "\n",
        "resnet_pruning_pruning_6.compile(optimizer='adam',\n",
        "              loss=tf.keras.losses.SparseCategoricalCrossentropy(from_logits=True),\n",
        "              metrics=['accuracy'])\n",
        "\n",
        "logdir = tempfile.mkdtemp()\n",
        "\n",
        "callbacks = [\n",
        "  tfmot.sparsity.keras.UpdatePruningStep(),\n",
        "  tfmot.sparsity.keras.PruningSummaries(log_dir=logdir),\n",
        "]\n",
        "\n",
        "resnet_pruning_pruning_6.fit(train_x, train_y,\n",
        "                  batch_size=batch_size, epochs=epochs, validation_split=validation_split,\n",
        "                  callbacks=callbacks)"
      ],
      "metadata": {
        "id": "W8IJyLGyTuED"
      },
      "execution_count": null,
      "outputs": []
    },
    {
      "cell_type": "code",
      "source": [
        "# Sparsity = 0.8,   pruning하고 다시 학습 시키기\n",
        "pruning_params_8 = {\n",
        "      'pruning_schedule': tfmot.sparsity.keras.ConstantSparsity(target_sparsity=0.8,\n",
        "                                                               begin_step=0,\n",
        "                                                               end_step=-1,\n",
        "                                                               frequency = 100\n",
        "                                                               )\n",
        "}\n",
        "\n",
        "resnet_pruning_pruning_8 = prune_low_magnitude(model, **pruning_params_8)\n",
        "\n",
        "resnet_pruning_pruning_8.compile(optimizer='adam',\n",
        "              loss=tf.keras.losses.SparseCategoricalCrossentropy(from_logits=True),\n",
        "              metrics=['accuracy'])\n",
        "\n",
        "logdir = tempfile.mkdtemp()\n",
        "\n",
        "callbacks = [\n",
        "  tfmot.sparsity.keras.UpdatePruningStep(),\n",
        "  tfmot.sparsity.keras.PruningSummaries(log_dir=logdir),\n",
        "]\n",
        "\n",
        "resnet_pruning_pruning_8.fit(train_x, train_y,\n",
        "                  batch_size=batch_size, epochs=epochs, validation_split=validation_split,\n",
        "                  callbacks=callbacks)"
      ],
      "metadata": {
        "id": "Z1983UWsT2l7"
      },
      "execution_count": null,
      "outputs": []
    },
    {
      "cell_type": "code",
      "execution_count": null,
      "metadata": {
        "id": "SY917My-O3tc"
      },
      "outputs": [],
      "source": [
        "# _, model_for_pruning_accuracy = resnet_pruning_pruning_2.evaluate(\n",
        "#    test_x, test_y, verbose=0)\n",
        "\n",
        "# print('Baseline test accuracy:', baseline_model_accuracy) \n",
        "# print('Pruned test accuracy:', model_for_pruning_accuracy)"
      ]
    },
    {
      "cell_type": "code",
      "execution_count": null,
      "metadata": {
        "id": "SjJ-pKueO3tc"
      },
      "outputs": [],
      "source": [
        "resnet_pruning_pruning_2_eport = tfmot.sparsity.keras.strip_pruning(resnet_pruning_pruning_2)\n",
        "resnet_pruning_pruning_4_eport = tfmot.sparsity.keras.strip_pruning(resnet_pruning_pruning_4)\n",
        "resnet_pruning_pruning_6_eport = tfmot.sparsity.keras.strip_pruning(resnet_pruning_pruning_6)\n",
        "resnet_pruning_pruning_8_eport = tfmot.sparsity.keras.strip_pruning(resnet_pruning_pruning_8)"
      ]
    },
    {
      "cell_type": "code",
      "source": [
        "converter = tf.lite.TFLiteConverter.from_keras_model(resnet_pruning_pruning_2_eport)\n",
        "resnet_pruning_pruning_2_tflite = converter.convert()\n",
        "converter = tf.lite.TFLiteConverter.from_keras_model(resnet_pruning_pruning_4_eport)\n",
        "resnet_pruning_pruning_4_tflite = converter.convert()\n",
        "converter = tf.lite.TFLiteConverter.from_keras_model(resnet_pruning_pruning_6_eport)\n",
        "resnet_pruning_pruning_6_tflite = converter.convert()\n",
        "converter = tf.lite.TFLiteConverter.from_keras_model(resnet_pruning_pruning_8_eport)\n",
        "resnet_pruning_pruning_8_tflite = converter.convert()"
      ],
      "metadata": {
        "id": "xGk9kVtGUGXf"
      },
      "execution_count": null,
      "outputs": []
    },
    {
      "cell_type": "code",
      "source": [
        "resnet_pruning_pruning_2_file = tflite_models_dir/\"resnet_pruning_pruning_2_tflite.tflite\"\n",
        "open(resnet_pruning_pruning_2_file, \"wb\") .write(resnet_pruning_pruning_2_tflite)\n",
        "\n",
        "resnet_pruning_pruning_4_file = tflite_models_dir/\"resnet_pruning_pruning_4_tflite.tflite\"\n",
        "open(resnet_pruning_pruning_4_file, \"wb\") .write(resnet_pruning_pruning_4_tflite)\n",
        "\n",
        "resnet_pruning_pruning_6_file = tflite_models_dir/\"resnet_pruning_pruning_6_tflite.tflite\"\n",
        "open(resnet_pruning_pruning_6_file, \"wb\") .write(resnet_pruning_pruning_6_tflite)\n",
        "\n",
        "resnet_pruning_pruning_8_file = tflite_models_dir/\"resnet_pruning_pruning_8_tflite.tflite\"\n",
        "open(resnet_pruning_pruning_8_file, \"wb\") .write(resnet_pruning_pruning_8_tflite)"
      ],
      "metadata": {
        "id": "jANJjQUgUGaX"
      },
      "execution_count": null,
      "outputs": []
    },
    {
      "cell_type": "code",
      "execution_count": null,
      "metadata": {
        "id": "C9AsbekFO3td"
      },
      "outputs": [],
      "source": [
        "# 모델의 bytes 크기 \n",
        "def get_gzipped_model_size(file):\n",
        "  # Returns size of gzipped model, in bytes.\n",
        "  import os\n",
        "  import zipfile\n",
        "\n",
        "  _, zipped_file = tempfile.mkstemp('.zip')\n",
        "  with zipfile.ZipFile(zipped_file, 'w', compression=zipfile.ZIP_DEFLATED) as f:\n",
        "    f.write(file)\n",
        "  print(os.path.getsize(zipped_file))"
      ]
    },
    {
      "cell_type": "markdown",
      "source": [
        "## 결과창"
      ],
      "metadata": {
        "id": "XmEwW_GEVRt2"
      }
    },
    {
      "cell_type": "code",
      "source": [
        "evaluate_model(tflite_model_file, model_type=\"Float\")\n",
        "evaluate_model(tflite_model_quant_file, model_type=\"Quantized\")\n",
        "evaluate_model(resnet_pruning_pruning_2_file, model_type=\"Pruning_2\")\n",
        "evaluate_model(resnet_pruning_pruning_4_file, model_type=\"Pruning_4\")\n",
        "evaluate_model(resnet_pruning_pruning_6_file, model_type=\"Pruning_6\")\n",
        "evaluate_model(resnet_pruning_pruning_8_file, model_type=\"Pruning_8\")"
      ],
      "metadata": {
        "id": "YM62Z9zfSCwm"
      },
      "execution_count": null,
      "outputs": []
    },
    {
      "cell_type": "code",
      "source": [
        "test_model_time(tflite_model_file, model_type=\"Float\")\n",
        "test_model_time(tflite_model_quant_file,  model_type=\"Quantized\")\n",
        "\n",
        "test_model_time(resnet_pruning_pruning_2_file,  model_type=\"Pruning_2\")\n",
        "test_model_time(resnet_pruning_pruning_4_file,  model_type=\"Pruning_4\")\n",
        "test_model_time(resnet_pruning_pruning_6_file,  model_type=\"Pruning_6\")\n",
        "test_model_time(resnet_pruning_pruning_8_file,  model_type=\"Pruning_8\")"
      ],
      "metadata": {
        "id": "kd-k31waSjr6"
      },
      "execution_count": null,
      "outputs": []
    },
    {
      "cell_type": "code",
      "source": [
        "get_gzipped_model_size(tflite_model_file)\n",
        "get_gzipped_model_size(tflite_model_quant_file)\n",
        "\n",
        "get_gzipped_model_size(resnet_pruning_pruning_2_file)\n",
        "get_gzipped_model_size(resnet_pruning_pruning_4_file)\n",
        "get_gzipped_model_size(resnet_pruning_pruning_6_file)\n",
        "get_gzipped_model_size(resnet_pruning_pruning_8_file)"
      ],
      "metadata": {
        "id": "7wxuOERuUzDf"
      },
      "execution_count": null,
      "outputs": []
    },
    {
      "cell_type": "code",
      "source": [
        ""
      ],
      "metadata": {
        "id": "EdmXvtn8Vgu5"
      },
      "execution_count": null,
      "outputs": []
    }
  ],
  "metadata": {
    "colab": {
      "collapsed_sections": [],
      "name": "Resnet50_예시.ipynb",
      "provenance": [],
      "include_colab_link": true
    },
    "kernelspec": {
      "display_name": "Python 3 (ipykernel)",
      "language": "python",
      "name": "python3"
    },
    "language_info": {
      "codemirror_mode": {
        "name": "ipython",
        "version": 3
      },
      "file_extension": ".py",
      "mimetype": "text/x-python",
      "name": "python",
      "nbconvert_exporter": "python",
      "pygments_lexer": "ipython3",
      "version": "3.7.0"
    },
    "accelerator": "GPU"
  },
  "nbformat": 4,
  "nbformat_minor": 0
}