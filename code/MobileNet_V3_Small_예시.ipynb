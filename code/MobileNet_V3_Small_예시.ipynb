{
  "cells": [
    {
      "cell_type": "markdown",
      "metadata": {
        "id": "view-in-github",
        "colab_type": "text"
      },
      "source": [
        "<a href=\"https://colab.research.google.com/github/yutan0565/colab_git/blob/main/code/MobileNet_V3_Small_%EC%98%88%EC%8B%9C.ipynb\" target=\"_parent\"><img src=\"https://colab.research.google.com/assets/colab-badge.svg\" alt=\"Open In Colab\"/></a>"
      ]
    },
    {
      "cell_type": "markdown",
      "metadata": {
        "id": "qTOd0ahJOZsr"
      },
      "source": [
        "##기본 모델 형성"
      ]
    },
    {
      "cell_type": "code",
      "source": [
        "!pip install -q tensorflow-model-optimization"
      ],
      "metadata": {
        "id": "XJTyYNFc5Udz"
      },
      "execution_count": null,
      "outputs": []
    },
    {
      "cell_type": "code",
      "source": [
        "import tensorflow as tf\n",
        "import matplotlib.pyplot as plt\n",
        "import numpy as np\n",
        "import pathlib\n",
        "import os\n",
        "import datetime\n",
        "import time\n",
        "import tempfile\n",
        "import pathlib\n",
        "\n",
        "from tensorflow.keras.applications import MobileNetV3Small\n",
        "from tensorflow.keras import models\n",
        "from tensorflow.keras import layers\n",
        "from tensorflow import keras\n",
        "from tensorflow.keras.callbacks import EarlyStopping, ModelCheckpoint, ReduceLROnPlateau, CSVLogger, TensorBoard\n",
        "import tensorflow_model_optimization as tfmot"
      ],
      "metadata": {
        "id": "07bpwytb5UgT"
      },
      "execution_count": null,
      "outputs": []
    },
    {
      "cell_type": "code",
      "source": [
        "# Cifar_10 데이터 불러오기\n",
        "(raw_train_x, raw_train_y), (raw_test_x, raw_test_y) = tf.keras.datasets.cifar10.load_data()\n",
        "\n",
        "# train, val, test 분리 및 scale 조정\n",
        "train_x = raw_train_x[:45000].astype(np.float32)/255.0\n",
        "valid_x = raw_train_x[45000:].astype(np.float32)/255.0\n",
        "test_x = raw_test_x.astype(np.float32)/255.0\n",
        "\n",
        "\n",
        "train_y = raw_train_y[:45000]\n",
        "valid_y = raw_train_y[45000:]\n",
        "test_y = raw_test_y\n",
        "labels = [\"airplane\", \"automobile\", \"bird\", \"cat\", \"deer\", \"dog\", \"frog\", \"horse\", \"ship\", \"truck\"]"
      ],
      "metadata": {
        "id": "GfqjbCnf5Ui-"
      },
      "execution_count": null,
      "outputs": []
    },
    {
      "cell_type": "code",
      "source": [
        "# 모델 불러오기 Conv-layer \n",
        "mobile = MobileNetV3Small(  #weights = 'imagenet',  #그냥 초기화 하는거면, 이거 지우기\n",
        "                            include_top = False,\n",
        "                            input_shape=(32,32,3)\n",
        "                            )\n",
        "\n",
        "# FC layer는 다른거 사용   --  Class 10 개 분류\n",
        "fc_layer = keras.Sequential([\n",
        "                             layers.Flatten(),\n",
        "                             layers.Dense(1024, activation = 'relu'),\n",
        "                             layers.Dense(1024, activation = 'relu'),\n",
        "                             layers.Dense(1024, activation = 'relu'),\n",
        "                             layers.Dense(10, activation = \"sigmoid\")\n",
        "                             ])\n",
        "\n",
        "model = keras.Sequential([mobile,\n",
        "                          fc_layer\n",
        "                          ])\n",
        "model.summary()\n"
      ],
      "metadata": {
        "id": "8ZjPXjSA5Uld"
      },
      "execution_count": null,
      "outputs": []
    },
    {
      "cell_type": "code",
      "source": [
        "# Callback 함수 지정 해주기      학습하는 동안 설정해줄것\n",
        "early_stop = EarlyStopping(patience=30) \n",
        "mc = ModelCheckpoint(\"./best_model/mobile_original_checkpoint\", \n",
        "                     save_best_only=True,\n",
        "                     monitor = 'val_loss',\n",
        "                     verbose = 1,\n",
        "                     mode = 'min') \n",
        "reduce_lr  = ReduceLROnPlateau(monitor = 'val_loss',\n",
        "                               factor=0.5, \n",
        "                               patience=5\n",
        "                               ) \n",
        "\n",
        "#optimizer 조정 해주기\n",
        "opt = tf.keras.optimizers.Adam(learning_rate=0.0001)"
      ],
      "metadata": {
        "id": "ArEP-78v5UoH"
      },
      "execution_count": null,
      "outputs": []
    },
    {
      "cell_type": "code",
      "source": [
        "# optimizer, loss 함수를 정의하고,  학습 준비를 한다,  metrics 는 어떤 일이 발생하는지 보여줄 것들\n",
        "model.compile(optimizer=opt, loss=\"sparse_categorical_crossentropy\", metrics=[\"accuracy\"])\n",
        "\n",
        "\n",
        "\n",
        "# 한번에 몇개의 데이터 학습하고 가중치 갱신할지 \n",
        "model.fit(train_x, train_y,\n",
        "          epochs=100,\n",
        "          verbose=1,\n",
        "          batch_size=32,\n",
        "          #validation_split = 0.1\n",
        "          validation_data = (valid_x, valid_y),\n",
        "          callbacks = [early_stop, reduce_lr , mc]\n",
        "          )"
      ],
      "metadata": {
        "id": "W0uEMQ-55UrK"
      },
      "execution_count": null,
      "outputs": []
    },
    {
      "cell_type": "code",
      "source": [
        "loss, acc = model.evaluate(test_x, test_y)\n",
        "print(\"loss=\",loss)\n",
        "print(\"acc=\",acc)\n",
        "\n",
        "# soft-max 형태로 결과가 나옴\n",
        "y_ = model.predict(test_x)\n",
        "\n",
        "# 모든 test_x 에 대해서 예측을 진행\n",
        "predicted = np.argmax(y_, axis=1)\n",
        "print(predicted)"
      ],
      "metadata": {
        "id": "sYTjLvuY5Utr"
      },
      "execution_count": null,
      "outputs": []
    },
    {
      "cell_type": "markdown",
      "metadata": {
        "id": "PMQkmsTBOdJC"
      },
      "source": [
        "##int_8 Quantization 진행"
      ]
    },
    {
      "cell_type": "code",
      "source": [
        "# 구조까지 들어가 있는거\n",
        "model = tf.keras.models.load_model('./best_model/mobile_original_checkpoint')"
      ],
      "metadata": {
        "id": "qZfaV9_t5UzS"
      },
      "execution_count": null,
      "outputs": []
    },
    {
      "cell_type": "code",
      "source": [
        "# Quantization을 위한 point 설정\n",
        "def representative_data_gen():\n",
        "  for input_value in tf.data.Dataset.from_tensor_slices(train_x).batch(1).take(100):\n",
        "    yield [input_value]"
      ],
      "metadata": {
        "id": "y6tKsF2A53E3"
      },
      "execution_count": null,
      "outputs": []
    },
    {
      "cell_type": "code",
      "source": [
        "# 그냥 파일 형태만 tflite로 변환 (float 형태임)\n",
        "converter = tf.lite.TFLiteConverter.from_keras_model(model)\n",
        "tflite_model = converter.convert()"
      ],
      "metadata": {
        "id": "xEWlsnWG53IA"
      },
      "execution_count": null,
      "outputs": []
    },
    {
      "cell_type": "code",
      "source": [
        "# int 8 로 quantization 진행하기\n",
        "converter = tf.lite.TFLiteConverter.from_keras_model(model)\n",
        "converter.optimizations = [tf.lite.Optimize.DEFAULT]\n",
        "converter.representative_dataset = representative_data_gen\n",
        "\n",
        "converter.target_spec.supported_ops = [tf.lite.OpsSet.TFLITE_BUILTINS_INT8]\n",
        "\n",
        "converter.inference_input_type = tf.uint8\n",
        "converter.inference_output_type = tf.uint8\n",
        "\n",
        "tflite_model_quant = converter.convert()"
      ],
      "metadata": {
        "id": "gVIJxQHn53Kn"
      },
      "execution_count": null,
      "outputs": []
    },
    {
      "cell_type": "code",
      "source": [
        "# Quantization 모델의 input, output 변환 잘 되었는지 확인 하기\n",
        "interpreter = tf.lite.Interpreter(model_content=tflite_model_quant)\n",
        "input_type = interpreter.get_input_details()[0]['dtype']\n",
        "print('input: ', input_type)\n",
        "output_type = interpreter.get_output_details()[0]['dtype']\n",
        "print('output: ', output_type)"
      ],
      "metadata": {
        "id": "nqY76rNc53M2"
      },
      "execution_count": null,
      "outputs": []
    },
    {
      "cell_type": "code",
      "source": [
        "# 모델 저장 해주는 과정\n",
        "# tflite 형태 모델을 어디에 저장 해줄까, 폴더 있으면 패스, 없으면 만들어 주기\n",
        "tflite_models_dir = pathlib.Path(\"./tflite/mobile_tflite/\")\n",
        "tflite_models_dir.mkdir(exist_ok=True, parents=True)\n"
      ],
      "metadata": {
        "id": "CtYATdhi53Pv"
      },
      "execution_count": null,
      "outputs": []
    },
    {
      "cell_type": "code",
      "source": [
        "# 일반 모델 tflite 형태로 저장\n",
        "tflite_model_file = tflite_models_dir/\"mobile_original_tflite.tflite\"\n",
        "open(tflite_model_file, \"wb\") .write(tflite_model)\n",
        "\n",
        "# Quantized 모델 tflite 형태로 저장\n",
        "tflite_model_quant_file = tflite_models_dir/\"mobile_quantization_tflite.tflite\"\n",
        "open(tflite_model_quant_file, \"wb\") .write(tflite_model_quant)\n",
        "\n",
        "#tflite_model_quant_file.write_bytes(tflite_model_quant)"
      ],
      "metadata": {
        "id": "8vXf99vy53SH"
      },
      "execution_count": null,
      "outputs": []
    },
    {
      "cell_type": "code",
      "source": [
        "# tflite 모델 평가에서 사용되는 실행 함수\n",
        "def run_tflite_model(tflite_file, test_image_indices):\n",
        "  global test_x\n",
        "\n",
        "  # Initialize the interpreter\n",
        "  interpreter = tf.lite.Interpreter(model_path=str(tflite_file))\n",
        "  interpreter.allocate_tensors()\n",
        "\n",
        "  input_details = interpreter.get_input_details()[0]\n",
        "  output_details = interpreter.get_output_details()[0]\n",
        "\n",
        "  predictions = np.zeros((len(test_image_indices),), dtype=int)\n",
        "  for i, test_image_index in enumerate(test_image_indices):\n",
        "    test_image = test_x[test_image_index]\n",
        "    test_label = test_y[test_image_index]\n",
        "\n",
        "    # Check if the input type is quantized, then rescale input data to uint8\n",
        "    if input_details['dtype'] == np.uint8:\n",
        "      input_scale, input_zero_point = input_details[\"quantization\"]\n",
        "      test_image = test_image / input_scale + input_zero_point\n",
        "\n",
        "    test_image = np.expand_dims(test_image, axis=0).astype(input_details[\"dtype\"])\n",
        "    interpreter.set_tensor(input_details[\"index\"], test_image)\n",
        "    interpreter.invoke()\n",
        "    output = interpreter.get_tensor(output_details[\"index\"])[0]\n",
        "\n",
        "    predictions[i] = output.argmax()\n",
        "\n",
        "  return predictions"
      ],
      "metadata": {
        "id": "embTeYqs53YL"
      },
      "execution_count": null,
      "outputs": []
    },
    {
      "cell_type": "code",
      "source": [
        "def evaluate_model(tflite_file, model_type):\n",
        "  global test_x\n",
        "  global test_y\n",
        "\n",
        "  test_image_indices = range(test_x.shape[0])\n",
        "  predictions = run_tflite_model(tflite_file, test_image_indices)\n",
        "\n",
        "  accuracy = (np.sum(test_y.reshape(-1)== predictions) * 100) / len(test_x)\n",
        "\n",
        "  print('%s model accuracy is %.4f%% (Number of test samples=%d)' % (\n",
        "      model_type, accuracy, len(test_x)))"
      ],
      "metadata": {
        "id": "o4Pblnlc6OZW"
      },
      "execution_count": null,
      "outputs": []
    },
    {
      "cell_type": "code",
      "source": [
        "# FPS 측정용 함수\n",
        "def run_tflite_time(tflite_file, test_image_indices):\n",
        "  global test_x\n",
        "\n",
        "  interpreter = tf.lite.Interpreter(model_path=str(tflite_file))\n",
        "  interpreter.allocate_tensors()\n",
        "\n",
        "  input_details = interpreter.get_input_details()[0]\n",
        "  output_details = interpreter.get_output_details()[0]\n",
        "\n",
        "  fps = np.zeros((len(test_image_indices),))\n",
        "  for i, test_image_index in enumerate(test_image_indices):\n",
        "    test_image = test_x[test_image_index]\n",
        "    test_label = test_y[test_image_index]\n",
        "\n",
        "    if input_details['dtype'] == np.uint8:\n",
        "      input_scale, input_zero_point = input_details[\"quantization\"]\n",
        "      test_image = test_image / input_scale + input_zero_point\n",
        "\n",
        "        \n",
        "    start = time.time()\n",
        "    test_image = np.expand_dims(test_image, axis=0).astype(input_details[\"dtype\"])\n",
        "    interpreter.set_tensor(input_details[\"index\"], test_image)\n",
        "    interpreter.invoke()\n",
        "    output = interpreter.get_tensor(output_details[\"index\"])[0]\n",
        "    end = time.time()\n",
        "    fps[i] = (end - start)\n",
        "\n",
        "  return fps"
      ],
      "metadata": {
        "id": "Oj9O6IFU6Odi"
      },
      "execution_count": null,
      "outputs": []
    },
    {
      "cell_type": "code",
      "source": [
        "def test_model_time(tflite_file, model_type):\n",
        "  global test_x\n",
        "  test_image_indices = range(test_x.shape[0])\n",
        "  fps = run_tflite_time(tflite_file, test_image_indices)\n",
        "  print(np.mean(fps))\n",
        "  print(1 / np.mean(fps))\n",
        "  print('%s model FPS is %.4f%% (Number of test samples=%d)' % (model_type, 1 / np.mean(fps), len(test_x)))"
      ],
      "metadata": {
        "id": "vB3kHfPc6Oge"
      },
      "execution_count": null,
      "outputs": []
    },
    {
      "cell_type": "markdown",
      "metadata": {
        "id": "Q85dwKpQOwv1"
      },
      "source": [
        "##Pruning 진행"
      ]
    },
    {
      "cell_type": "code",
      "source": [
        "model = tf.keras.models.load_model('./best_model/mobile_original_checkpoint')\n",
        "_, keras_file = tempfile.mkstemp('.h5')\n",
        "tf.keras.models.save_model(model, keras_file, include_optimizer=False)\n",
        "\n",
        "# Pruning을 위한 변수 설정\n",
        "prune_low_magnitude = tfmot.sparsity.keras.prune_low_magnitude\n",
        "\n",
        "batch_size = 32\n",
        "epochs = 30\n",
        "validation_split = 0.1 \n",
        "\n",
        "num_images = train_x.shape[0] * (1 - validation_split)\n",
        "end_step = np.ceil(num_images / batch_size).astype(np.int32) * epochs"
      ],
      "metadata": {
        "id": "aif8n8ZW6Oi5"
      },
      "execution_count": null,
      "outputs": []
    },
    {
      "cell_type": "code",
      "source": [
        "# Sparsity = 0.2,   pruning하고 다시 학습 시키기\n",
        "pruning_params_2 = {\n",
        "      'pruning_schedule': tfmot.sparsity.keras.ConstantSparsity(target_sparsity=0.2,\n",
        "                                                               begin_step=0,\n",
        "                                                               end_step=-1,\n",
        "                                                               frequency = 100\n",
        "                                                               )\n",
        "}\n",
        "\n",
        "mobile_pruning_pruning_2 = prune_low_magnitude(model, **pruning_params_2)\n",
        "\n",
        "mobile_pruning_pruning_2.compile(optimizer='adam',\n",
        "              loss=tf.keras.losses.SparseCategoricalCrossentropy(from_logits=True),\n",
        "              metrics=['accuracy'])\n",
        "\n",
        "logdir = tempfile.mkdtemp()\n",
        "\n",
        "callbacks = [\n",
        "  tfmot.sparsity.keras.UpdatePruningStep(),\n",
        "  tfmot.sparsity.keras.PruningSummaries(log_dir=logdir),\n",
        "]\n",
        "\n",
        "mobile_pruning_pruning_2.fit(train_x, train_y,\n",
        "                  batch_size=batch_size, epochs=epochs, validation_split=validation_split,\n",
        "                  callbacks=callbacks)"
      ],
      "metadata": {
        "id": "KTHCD__m6XXG"
      },
      "execution_count": null,
      "outputs": []
    },
    {
      "cell_type": "code",
      "source": [
        "# Sparsity = 0.4,   pruning하고 다시 학습 시키기\n",
        "pruning_params_4 = {\n",
        "      'pruning_schedule': tfmot.sparsity.keras.ConstantSparsity(target_sparsity=0.4,\n",
        "                                                               begin_step=0,\n",
        "                                                               end_step=-1,\n",
        "                                                               frequency = 100\n",
        "                                                               )\n",
        "}\n",
        "\n",
        "mobile_pruning_pruning_4 = prune_low_magnitude(model, **pruning_params_4)\n",
        "\n",
        "mobile_pruning_pruning_4.compile(optimizer='adam',\n",
        "              loss=tf.keras.losses.SparseCategoricalCrossentropy(from_logits=True),\n",
        "              metrics=['accuracy'])\n",
        "\n",
        "logdir = tempfile.mkdtemp()\n",
        "\n",
        "callbacks = [\n",
        "  tfmot.sparsity.keras.UpdatePruningStep(),\n",
        "  tfmot.sparsity.keras.PruningSummaries(log_dir=logdir),\n",
        "]\n",
        "\n",
        "mobile_pruning_pruning_4.fit(train_x, train_y,\n",
        "                  batch_size=batch_size, epochs=epochs, validation_split=validation_split,\n",
        "                  callbacks=callbacks)"
      ],
      "metadata": {
        "id": "YVeXvnJl6XZw"
      },
      "execution_count": null,
      "outputs": []
    },
    {
      "cell_type": "code",
      "source": [
        "# Sparsity = 0.6,   pruning하고 다시 학습 시키기\n",
        "pruning_params_6 = {\n",
        "      'pruning_schedule': tfmot.sparsity.keras.ConstantSparsity(target_sparsity=0.6,\n",
        "                                                               begin_step=0,\n",
        "                                                               end_step=-1,\n",
        "                                                               frequency = 100\n",
        "                                                               )\n",
        "}\n",
        "\n",
        "mobile_pruning_pruning_6 = prune_low_magnitude(model, **pruning_params_6)\n",
        "\n",
        "mobile_pruning_pruning_6.compile(optimizer='adam',\n",
        "              loss=tf.keras.losses.SparseCategoricalCrossentropy(from_logits=True),\n",
        "              metrics=['accuracy'])\n",
        "\n",
        "logdir = tempfile.mkdtemp()\n",
        "\n",
        "callbacks = [\n",
        "  tfmot.sparsity.keras.UpdatePruningStep(),\n",
        "  tfmot.sparsity.keras.PruningSummaries(log_dir=logdir),\n",
        "]\n",
        "\n",
        "mobile_pruning_pruning_6.fit(train_x, train_y,\n",
        "                  batch_size=batch_size, epochs=epochs, validation_split=validation_split,\n",
        "                  callbacks=callbacks)"
      ],
      "metadata": {
        "id": "NNIEH4-N6Xc6"
      },
      "execution_count": null,
      "outputs": []
    },
    {
      "cell_type": "code",
      "source": [
        "# Sparsity = 0.8,   pruning하고 다시 학습 시키기\n",
        "pruning_params_8 = {\n",
        "      'pruning_schedule': tfmot.sparsity.keras.ConstantSparsity(target_sparsity=0.8,\n",
        "                                                               begin_step=0,\n",
        "                                                               end_step=-1,\n",
        "                                                               frequency = 100\n",
        "                                                               )\n",
        "}\n",
        "\n",
        "mobile_pruning_pruning_8 = prune_low_magnitude(model, **pruning_params_8)\n",
        "\n",
        "mobile_pruning_pruning_8.compile(optimizer='adam',\n",
        "              loss=tf.keras.losses.SparseCategoricalCrossentropy(from_logits=True),\n",
        "              metrics=['accuracy'])\n",
        "\n",
        "logdir = tempfile.mkdtemp()\n",
        "\n",
        "callbacks = [\n",
        "  tfmot.sparsity.keras.UpdatePruningStep(),\n",
        "  tfmot.sparsity.keras.PruningSummaries(log_dir=logdir),\n",
        "]\n",
        "\n",
        "mobile_pruning_pruning_8.fit(train_x, train_y,\n",
        "                  batch_size=batch_size, epochs=epochs, validation_split=validation_split,\n",
        "                  callbacks=callbacks)"
      ],
      "metadata": {
        "id": "tAcRhmb86Xfl"
      },
      "execution_count": null,
      "outputs": []
    },
    {
      "cell_type": "code",
      "source": [
        "mobile_pruning_pruning_2_eport = tfmot.sparsity.keras.strip_pruning(mobile_pruning_pruning_2)\n",
        "mobile_pruning_pruning_4_eport = tfmot.sparsity.keras.strip_pruning(mobile_pruning_pruning_4)\n",
        "mobile_pruning_pruning_6_eport = tfmot.sparsity.keras.strip_pruning(mobile_pruning_pruning_6)\n",
        "mobile_pruning_pruning_8_eport = tfmot.sparsity.keras.strip_pruning(mobile_pruning_pruning_8)"
      ],
      "metadata": {
        "id": "Na1Rxyws6Xh8"
      },
      "execution_count": null,
      "outputs": []
    },
    {
      "cell_type": "code",
      "source": [
        "converter = tf.lite.TFLiteConverter.from_keras_model(mobile_pruning_pruning_2_eport)\n",
        "mobile_pruning_pruning_2_tflite = converter.convert()\n",
        "converter = tf.lite.TFLiteConverter.from_keras_model(mobile_pruning_pruning_4_eport)\n",
        "mobile_pruning_pruning_4_tflite = converter.convert()\n",
        "converter = tf.lite.TFLiteConverter.from_keras_model(mobile_pruning_pruning_6_eport)\n",
        "mobile_pruning_pruning_6_tflite = converter.convert()\n",
        "converter = tf.lite.TFLiteConverter.from_keras_model(mobile_pruning_pruning_8_eport)\n",
        "mobile_pruning_pruning_8_tflite = converter.convert()"
      ],
      "metadata": {
        "id": "ffvwBmDo6Xjt"
      },
      "execution_count": null,
      "outputs": []
    },
    {
      "cell_type": "code",
      "source": [
        "mobile_pruning_pruning_2_file = tflite_models_dir/\"mobile_pruning_pruning_2_tflite.tflite\"\n",
        "open(mobile_pruning_pruning_2_file, \"wb\") .write(mobile_pruning_pruning_2_tflite)\n",
        "\n",
        "mobile_pruning_pruning_4_file = tflite_models_dir/\"mobile_pruning_pruning_4_tflite.tflite\"\n",
        "open(mobile_pruning_pruning_4_file, \"wb\") .write(mobile_pruning_pruning_4_tflite)\n",
        "\n",
        "mobile_pruning_pruning_6_file = tflite_models_dir/\"mobile_pruning_pruning_6_tflite.tflite\"\n",
        "open(mobile_pruning_pruning_6_file, \"wb\") .write(mobile_pruning_pruning_6_tflite)\n",
        "\n",
        "mobile_pruning_pruning_8_file = tflite_models_dir/\"mobile_pruning_pruning_8_tflite.tflite\"\n",
        "open(mobile_pruning_pruning_8_file, \"wb\") .write(mobile_pruning_pruning_8_tflite)"
      ],
      "metadata": {
        "id": "upZLyOis6Xl3"
      },
      "execution_count": null,
      "outputs": []
    },
    {
      "cell_type": "code",
      "source": [
        "# 모델의 bytes 크기 \n",
        "def get_gzipped_model_size(file):\n",
        "  # Returns size of gzipped model, in bytes.\n",
        "  import os\n",
        "  import zipfile\n",
        "\n",
        "  _, zipped_file = tempfile.mkstemp('.zip')\n",
        "  with zipfile.ZipFile(zipped_file, 'w', compression=zipfile.ZIP_DEFLATED) as f:\n",
        "    f.write(file)\n",
        "  print(os.path.getsize(zipped_file))"
      ],
      "metadata": {
        "id": "hShS7D4c6Olp"
      },
      "execution_count": null,
      "outputs": []
    },
    {
      "cell_type": "markdown",
      "source": [
        "# 결과창"
      ],
      "metadata": {
        "id": "7KtKrcFs5Rmx"
      }
    },
    {
      "cell_type": "code",
      "source": [
        "evaluate_model(tflite_model_file, model_type=\"Float\")\n",
        "evaluate_model(tflite_model_quant_file, model_type=\"Quantized\")\n",
        "\n",
        "evaluate_model(mobile_pruning_pruning_2_file, model_type=\"Pruning_2\")\n",
        "evaluate_model(mobile_pruning_pruning_4_file, model_type=\"Pruning_4\")\n",
        "evaluate_model(mobile_pruning_pruning_6_file, model_type=\"Pruning_6\")\n",
        "evaluate_model(mobile_pruning_pruning_8_file, model_type=\"Pruning_8\")"
      ],
      "metadata": {
        "id": "qnvzNkvT6OtW"
      },
      "execution_count": null,
      "outputs": []
    },
    {
      "cell_type": "code",
      "source": [
        "test_model_time(tflite_model_file, model_type=\"Float\")\n",
        "test_model_time(tflite_model_quant_file,  model_type=\"Quantized\")\n",
        "\n",
        "test_model_time(mobile_pruning_pruning_2_file,  model_type=\"Pruning_2\")\n",
        "test_model_time(mobile_pruning_pruning_4_file,  model_type=\"Pruning_4\")\n",
        "test_model_time(mobile_pruning_pruning_6_file,  model_type=\"Pruning_6\")\n",
        "test_model_time(mobile_pruning_pruning_8_file,  model_type=\"Pruning_8\")"
      ],
      "metadata": {
        "id": "bvqmxRaI7dyJ"
      },
      "execution_count": null,
      "outputs": []
    },
    {
      "cell_type": "code",
      "source": [
        "get_gzipped_model_size(tflite_model_file)\n",
        "get_gzipped_model_size(tflite_model_quant_file)\n",
        "\n",
        "get_gzipped_model_size(mobile_pruning_pruning_2_file)\n",
        "get_gzipped_model_size(mobile_pruning_pruning_4_file)\n",
        "get_gzipped_model_size(mobile_pruning_pruning_6_file)\n",
        "get_gzipped_model_size(mobile_pruning_pruning_8_file)"
      ],
      "metadata": {
        "id": "Oa90ZigB7d03"
      },
      "execution_count": null,
      "outputs": []
    }
  ],
  "metadata": {
    "colab": {
      "collapsed_sections": [],
      "name": "MobileNet_V3_Small_예시.ipynb",
      "provenance": [],
      "include_colab_link": true
    },
    "kernelspec": {
      "display_name": "Python 3 (ipykernel)",
      "language": "python",
      "name": "python3"
    },
    "language_info": {
      "codemirror_mode": {
        "name": "ipython",
        "version": 3
      },
      "file_extension": ".py",
      "mimetype": "text/x-python",
      "name": "python",
      "nbconvert_exporter": "python",
      "pygments_lexer": "ipython3",
      "version": "3.7.0"
    }
  },
  "nbformat": 4,
  "nbformat_minor": 0
}