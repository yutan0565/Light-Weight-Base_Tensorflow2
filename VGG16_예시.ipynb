{
  "nbformat": 4,
  "nbformat_minor": 0,
  "metadata": {
    "colab": {
      "name": "VGG16_예시.ipynb",
      "provenance": [],
      "authorship_tag": "ABX9TyNeQJJyzbQ78vAZSoyBmK26",
      "include_colab_link": true
    },
    "kernelspec": {
      "name": "python3",
      "display_name": "Python 3"
    },
    "language_info": {
      "name": "python"
    }
  },
  "cells": [
    {
      "cell_type": "markdown",
      "metadata": {
        "id": "view-in-github",
        "colab_type": "text"
      },
      "source": [
        "<a href=\"https://colab.research.google.com/github/yutan0565/colab_git/blob/main/VGG16_%EC%98%88%EC%8B%9C.ipynb\" target=\"_parent\"><img src=\"https://colab.research.google.com/assets/colab-badge.svg\" alt=\"Open In Colab\"/></a>"
      ]
    },
    {
      "cell_type": "code",
      "execution_count": null,
      "metadata": {
        "id": "4NajNecAJKZf"
      },
      "outputs": [],
      "source": [
        "# 필요한 lib 불러오기"
      ]
    },
    {
      "cell_type": "code",
      "source": [
        "# 모델 로드 \n",
        "# top 그대로 유지해서 할꺼면, 같은 이미지에 대해서 테스트를 진행 해야함"
      ],
      "metadata": {
        "id": "luF4cJ7bJRp8"
      },
      "execution_count": null,
      "outputs": []
    },
    {
      "cell_type": "code",
      "source": [
        "# 데이터 로드 , 데이터 기본 제공 말고, 추가적인 거는 내가 모양 맞춰서 따로 정제 해야함"
      ],
      "metadata": {
        "id": "dT0Cqp_EJRsg"
      },
      "execution_count": null,
      "outputs": []
    },
    {
      "cell_type": "code",
      "source": [
        "#https://github.com/Bao-Jiarong/VGG/blob/master/vgg.py\n",
        "# 여기꺼 참고하면 좋을거 같음"
      ],
      "metadata": {
        "id": "qRo8_qz0JRvH"
      },
      "execution_count": null,
      "outputs": []
    },
    {
      "cell_type": "code",
      "source": [
        ""
      ],
      "metadata": {
        "id": "fO2RGXR2JRxq"
      },
      "execution_count": null,
      "outputs": []
    },
    {
      "cell_type": "code",
      "source": [
        ""
      ],
      "metadata": {
        "id": "0ptbBJ19JRz_"
      },
      "execution_count": null,
      "outputs": []
    },
    {
      "cell_type": "code",
      "source": [
        ""
      ],
      "metadata": {
        "id": "9SJiib36JR2I"
      },
      "execution_count": null,
      "outputs": []
    }
  ]
}