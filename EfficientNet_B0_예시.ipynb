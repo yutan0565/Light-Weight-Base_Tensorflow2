{
  "nbformat": 4,
  "nbformat_minor": 0,
  "metadata": {
    "colab": {
      "name": "EfficientNet_B0_예시.ipynb",
      "provenance": [],
      "authorship_tag": "ABX9TyME9iJDGCiOtsc6Cj9WKF2G",
      "include_colab_link": true
    },
    "kernelspec": {
      "name": "python3",
      "display_name": "Python 3"
    },
    "language_info": {
      "name": "python"
    }
  },
  "cells": [
    {
      "cell_type": "markdown",
      "metadata": {
        "id": "view-in-github",
        "colab_type": "text"
      },
      "source": [
        "<a href=\"https://colab.research.google.com/github/yutan0565/colab_git/blob/main/EfficientNet_B0_%EC%98%88%EC%8B%9C.ipynb\" target=\"_parent\"><img src=\"https://colab.research.google.com/assets/colab-badge.svg\" alt=\"Open In Colab\"/></a>"
      ]
    },
    {
      "cell_type": "code",
      "execution_count": null,
      "metadata": {
        "id": "4NajNecAJKZf"
      },
      "outputs": [],
      "source": [
        "# 필요한 lib 불러오기"
      ]
    },
    {
      "cell_type": "code",
      "source": [
        "# 모델 로드 \n",
        "# top 그대로 유지해서 할꺼면, 같은 이미지에 대해서 테스트를 진행 해야함"
      ],
      "metadata": {
        "id": "luF4cJ7bJRp8"
      },
      "execution_count": null,
      "outputs": []
    },
    {
      "cell_type": "code",
      "source": [
        "# 데이터 로드 , 데이터 기본 제공 말고, 추가적인 거는 내가 모양 맞춰서 따로 정제 해야함"
      ],
      "metadata": {
        "id": "dT0Cqp_EJRsg"
      },
      "execution_count": null,
      "outputs": []
    },
    {
      "cell_type": "code",
      "source": [
        "#https://github.com/Bao-Jiarong/VGG/blob/master/vgg.py\n",
        "# 여기꺼 참고하면 좋을거 같음"
      ],
      "metadata": {
        "id": "qRo8_qz0JRvH"
      },
      "execution_count": null,
      "outputs": []
    },
    {
      "cell_type": "code",
      "source": [
        "import tensorflow as tf\n",
        "import matplotlib.pyplot as plt\n",
        "import numpy as np"
      ],
      "metadata": {
        "id": "fO2RGXR2JRxq"
      },
      "execution_count": 1,
      "outputs": []
    },
    {
      "cell_type": "code",
      "source": [
        "(raw_train_x, raw_train_y), (raw_test_x, raw_test_y) = tf.keras.datasets.cifar10.load_data()"
      ],
      "metadata": {
        "id": "0ptbBJ19JRz_",
        "colab": {
          "base_uri": "https://localhost:8080/"
        },
        "outputId": "e8c43291-36f3-4cf5-c1c3-9fe118d36bb6"
      },
      "execution_count": 2,
      "outputs": [
        {
          "output_type": "stream",
          "name": "stdout",
          "text": [
            "Downloading data from https://www.cs.toronto.edu/~kriz/cifar-10-python.tar.gz\n",
            "170500096/170498071 [==============================] - 4s 0us/step\n",
            "170508288/170498071 [==============================] - 4s 0us/step\n"
          ]
        }
      ]
    },
    {
      "cell_type": "code",
      "source": [
        "print(raw_train_x.shape)\n",
        "print(raw_train_y.shape)\n",
        "print(raw_test_x.shape)\n",
        "print(raw_test_y.shape)"
      ],
      "metadata": {
        "id": "9SJiib36JR2I",
        "colab": {
          "base_uri": "https://localhost:8080/"
        },
        "outputId": "630b06dd-899e-438f-81ab-4da2939732ae"
      },
      "execution_count": 3,
      "outputs": [
        {
          "output_type": "stream",
          "name": "stdout",
          "text": [
            "(50000, 32, 32, 3)\n",
            "(50000, 1)\n",
            "(10000, 32, 32, 3)\n",
            "(10000, 1)\n"
          ]
        }
      ]
    },
    {
      "cell_type": "code",
      "source": [
        "# float을 넣을거면 0~1 사이 값으로 바꿔야함\n",
        "train_x = raw_train_x/255\n",
        "test_x = raw_test_x/255\n",
        "train_y = raw_train_y\n",
        "test_y = raw_test_y\n",
        "labels = [\"airplane\", \"automobile\", \"bird\", \"cat\", \"deer\", \"dog\", \"frog\", \"horse\", \"ship\", \"truck\"]\n",
        "\n",
        "\"\"\"\n",
        "def show_sample(i):\n",
        "  print(raw_train_y[i][0], labels[raw_train_y[i][0]])\n",
        "  plt.imshow(raw_train_x[i])\n",
        "  plt.show()\n",
        "\n",
        "for i in [2, 10, 12, 14]:\n",
        "  show_sample(i)\n",
        "\"\"\""
      ],
      "metadata": {
        "id": "Y3XsyJumvC4Z",
        "colab": {
          "base_uri": "https://localhost:8080/",
          "height": 54
        },
        "outputId": "347453df-cb45-438f-f7ed-3ea24969553f"
      },
      "execution_count": 4,
      "outputs": [
        {
          "output_type": "execute_result",
          "data": {
            "text/plain": [
              "'\\ndef show_sample(i):\\n  print(raw_train_y[i][0], labels[raw_train_y[i][0]])\\n  plt.imshow(raw_train_x[i])\\n  plt.show()\\n\\nfor i in [2, 10, 12, 14]:\\n  show_sample(i)\\n'"
            ],
            "application/vnd.google.colaboratory.intrinsic+json": {
              "type": "string"
            }
          },
          "metadata": {},
          "execution_count": 4
        }
      ]
    },
    {
      "cell_type": "code",
      "source": [
        "from tensorflow.keras.applications import EfficientNetB0\n",
        "from tensorflow.keras import models\n",
        "from tensorflow.keras import layers\n",
        "from tf.keras.callbacks import EarlyStopping, ModelCheckpoint, ReduceLROnPlateau, CSVLogger\n",
        "\n",
        "\n",
        "efficient = EfficientNetB0(weights = 'imagenet', #  그냥 초기화 하는거면, 이거 지우기\n",
        "            include_top = False,\n",
        "            input_shape=(32,32,3))\n",
        "efficient.summary()\n",
        "\n",
        "# vgg conv 구조만 사용하고 마지막 FC layer는 다른거 사용\n",
        "model = models.Sequential()\n",
        "model.add(efficient)\n",
        "model.add(layers.Flatten())\n",
        "model.add(layers.Dense(512, activation = 'relu'))\n",
        "model.add(layers.Dense(512, activation = 'relu'))\n",
        "model.add(layers.Dense(10, activation = \"sigmoid\"))\n",
        "model.summary()"
      ],
      "metadata": {
        "id": "1nLvUwGGvQ8w"
      },
      "execution_count": null,
      "outputs": []
    },
    {
      "cell_type": "code",
      "source": [
        "# optimizer, loss 함수를 정의하고,  학습 준비를 한다,  metrics 는 어떤 일이 발생하는지 보여줄 것들\n",
        "model.compile(optimizer=\"adam\", loss=\"sparse_categorical_crossentropy\", metrics=[\"accuracy\"])\n",
        "\n",
        "# 한번에 몇개의 데이터 학습하고 가중치 갱신할지 \n",
        "model.fit(train_x, train_y, epochs=10, verbose=1, batch_size=128)"
      ],
      "metadata": {
        "colab": {
          "base_uri": "https://localhost:8080/"
        },
        "id": "yZ-LukhIvphi",
        "outputId": "ca86061b-f4bf-43a5-f0e8-c7198900a152"
      },
      "execution_count": 8,
      "outputs": [
        {
          "output_type": "stream",
          "name": "stdout",
          "text": [
            "Epoch 1/10\n",
            "391/391 [==============================] - 498s 1s/step - loss: 0.8513 - accuracy: 0.7089\n",
            "Epoch 2/10\n",
            "391/391 [==============================] - 484s 1s/step - loss: 0.6462 - accuracy: 0.7803\n",
            "Epoch 3/10\n",
            "391/391 [==============================] - 485s 1s/step - loss: 0.5329 - accuracy: 0.8192\n",
            "Epoch 4/10\n",
            "391/391 [==============================] - 483s 1s/step - loss: 0.4621 - accuracy: 0.8433\n",
            "Epoch 5/10\n",
            "391/391 [==============================] - 481s 1s/step - loss: 0.3859 - accuracy: 0.8680\n",
            "Epoch 6/10\n",
            "391/391 [==============================] - 482s 1s/step - loss: 0.3386 - accuracy: 0.8842\n",
            "Epoch 7/10\n",
            "391/391 [==============================] - 478s 1s/step - loss: 0.2954 - accuracy: 0.9013\n",
            "Epoch 8/10\n",
            "391/391 [==============================] - 480s 1s/step - loss: 0.2599 - accuracy: 0.9118\n",
            "Epoch 9/10\n",
            "391/391 [==============================] - 480s 1s/step - loss: 0.2319 - accuracy: 0.9224\n",
            "Epoch 10/10\n",
            "391/391 [==============================] - 482s 1s/step - loss: 0.2054 - accuracy: 0.9315\n"
          ]
        },
        {
          "output_type": "execute_result",
          "data": {
            "text/plain": [
              "<keras.callbacks.History at 0x7f9b0b616310>"
            ]
          },
          "metadata": {},
          "execution_count": 8
        }
      ]
    },
    {
      "cell_type": "code",
      "source": [
        "loss, acc = model.evaluate(test_x, test_y)\n",
        "print(\"loss=\",loss)\n",
        "print(\"acc=\",acc)\n",
        "\n",
        "y_ = model.predict(test_x)\n",
        "predicted = np.argmax(y_, axis=1)\n",
        "\n",
        "print(predicted)"
      ],
      "metadata": {
        "colab": {
          "base_uri": "https://localhost:8080/"
        },
        "id": "sIGR4cUIFFFG",
        "outputId": "5b548f8a-b10f-4320-f623-4b52c6ba15b0"
      },
      "execution_count": 9,
      "outputs": [
        {
          "output_type": "stream",
          "name": "stdout",
          "text": [
            "313/313 [==============================] - 18s 51ms/step - loss: 5.2557 - accuracy: 0.1408\n",
            "loss= 5.25570011138916\n",
            "acc= 0.14079999923706055\n",
            "[3 3 3 ... 3 3 3]\n"
          ]
        }
      ]
    },
    {
      "cell_type": "code",
      "source": [
        "model.save('efficient_h5_model.h5')\n",
        "modle.save('efficient_another_type')"
      ],
      "metadata": {
        "id": "56tzoizBvvXu",
        "colab": {
          "base_uri": "https://localhost:8080/",
          "height": 193
        },
        "outputId": "470cc2b8-1216-4418-eb93-10443c1598c2"
      },
      "execution_count": 10,
      "outputs": [
        {
          "output_type": "error",
          "ename": "NameError",
          "evalue": "ignored",
          "traceback": [
            "\u001b[0;31m---------------------------------------------------------------------------\u001b[0m",
            "\u001b[0;31mNameError\u001b[0m                                 Traceback (most recent call last)",
            "\u001b[0;32m<ipython-input-10-9c09d2b4cfc5>\u001b[0m in \u001b[0;36m<module>\u001b[0;34m()\u001b[0m\n\u001b[1;32m      1\u001b[0m \u001b[0mmodel\u001b[0m\u001b[0;34m.\u001b[0m\u001b[0msave\u001b[0m\u001b[0;34m(\u001b[0m\u001b[0;34m'efficient_h5_model.h5'\u001b[0m\u001b[0;34m)\u001b[0m\u001b[0;34m\u001b[0m\u001b[0;34m\u001b[0m\u001b[0m\n\u001b[0;32m----> 2\u001b[0;31m \u001b[0mmodle\u001b[0m\u001b[0;34m.\u001b[0m\u001b[0msave\u001b[0m\u001b[0;34m(\u001b[0m\u001b[0;34m'efficient_another_type'\u001b[0m\u001b[0;34m)\u001b[0m\u001b[0;34m\u001b[0m\u001b[0;34m\u001b[0m\u001b[0m\n\u001b[0m",
            "\u001b[0;31mNameError\u001b[0m: name 'modle' is not defined"
          ]
        }
      ]
    },
    {
      "cell_type": "code",
      "source": [
        ""
      ],
      "metadata": {
        "id": "xr4GalkTFnAK"
      },
      "execution_count": null,
      "outputs": []
    }
  ]
}