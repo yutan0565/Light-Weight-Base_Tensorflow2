{
  "nbformat": 4,
  "nbformat_minor": 0,
  "metadata": {
    "colab": {
      "name": "EfficientNet_B0_예시.ipynb",
      "provenance": [],
      "collapsed_sections": [],
      "mount_file_id": "1Et-iwTi6UUUc5F1_JvqO-_LjfL43QBV_",
      "authorship_tag": "ABX9TyNLF3DdZaIxHhsflzcqZ4FK",
      "include_colab_link": true
    },
    "kernelspec": {
      "name": "python3",
      "display_name": "Python 3"
    },
    "language_info": {
      "name": "python"
    }
  },
  "cells": [
    {
      "cell_type": "markdown",
      "metadata": {
        "id": "view-in-github",
        "colab_type": "text"
      },
      "source": [
        "<a href=\"https://colab.research.google.com/github/yutan0565/colab_git/blob/main/EfficientNet_B0_%EC%98%88%EC%8B%9C.ipynb\" target=\"_parent\"><img src=\"https://colab.research.google.com/assets/colab-badge.svg\" alt=\"Open In Colab\"/></a>"
      ]
    },
    {
      "cell_type": "markdown",
      "source": [
        "## 기본 모델 형성\n",
        "\n",
        "\n"
      ],
      "metadata": {
        "id": "2HgXJWEEeK0D"
      }
    },
    {
      "cell_type": "code",
      "source": [
        "!pip install -q tensorflow-model-optimization"
      ],
      "metadata": {
        "id": "dZanp6FNbbzM",
        "outputId": "5842c302-68cb-45fd-a69a-bb41dbfe3046",
        "colab": {
          "base_uri": "https://localhost:8080/"
        }
      },
      "execution_count": 2,
      "outputs": [
        {
          "output_type": "stream",
          "name": "stdout",
          "text": [
            "\u001b[?25l\r\u001b[K     |█▍                              | 10 kB 23.1 MB/s eta 0:00:01\r\u001b[K     |██▊                             | 20 kB 26.5 MB/s eta 0:00:01\r\u001b[K     |████▏                           | 30 kB 20.6 MB/s eta 0:00:01\r\u001b[K     |█████▌                          | 40 kB 16.6 MB/s eta 0:00:01\r\u001b[K     |███████                         | 51 kB 8.0 MB/s eta 0:00:01\r\u001b[K     |████████▎                       | 61 kB 9.3 MB/s eta 0:00:01\r\u001b[K     |█████████▋                      | 71 kB 9.0 MB/s eta 0:00:01\r\u001b[K     |███████████                     | 81 kB 9.0 MB/s eta 0:00:01\r\u001b[K     |████████████▍                   | 92 kB 9.9 MB/s eta 0:00:01\r\u001b[K     |█████████████▉                  | 102 kB 8.4 MB/s eta 0:00:01\r\u001b[K     |███████████████▏                | 112 kB 8.4 MB/s eta 0:00:01\r\u001b[K     |████████████████▌               | 122 kB 8.4 MB/s eta 0:00:01\r\u001b[K     |██████████████████              | 133 kB 8.4 MB/s eta 0:00:01\r\u001b[K     |███████████████████▎            | 143 kB 8.4 MB/s eta 0:00:01\r\u001b[K     |████████████████████▊           | 153 kB 8.4 MB/s eta 0:00:01\r\u001b[K     |██████████████████████          | 163 kB 8.4 MB/s eta 0:00:01\r\u001b[K     |███████████████████████▌        | 174 kB 8.4 MB/s eta 0:00:01\r\u001b[K     |████████████████████████▉       | 184 kB 8.4 MB/s eta 0:00:01\r\u001b[K     |██████████████████████████▏     | 194 kB 8.4 MB/s eta 0:00:01\r\u001b[K     |███████████████████████████▋    | 204 kB 8.4 MB/s eta 0:00:01\r\u001b[K     |█████████████████████████████   | 215 kB 8.4 MB/s eta 0:00:01\r\u001b[K     |██████████████████████████████▍ | 225 kB 8.4 MB/s eta 0:00:01\r\u001b[K     |███████████████████████████████▊| 235 kB 8.4 MB/s eta 0:00:01\r\u001b[K     |████████████████████████████████| 237 kB 8.4 MB/s \n",
            "\u001b[?25h"
          ]
        }
      ]
    },
    {
      "cell_type": "code",
      "source": [
        "import tensorflow as tf\n",
        "import matplotlib.pyplot as plt\n",
        "import numpy as np\n",
        "import pathlib\n",
        "import os\n",
        "import tempfile\n",
        "\n",
        "from tensorflow.keras.applications import EfficientNetB0\n",
        "from tensorflow.keras import models\n",
        "from tensorflow.keras import layers\n",
        "from tensorflow import keras\n",
        "from tensorflow.keras.callbacks import EarlyStopping, ModelCheckpoint, ReduceLROnPlateau, CSVLogger\n",
        "import tensorflow_model_optimization as tfmot\n"
      ],
      "metadata": {
        "id": "fO2RGXR2JRxq"
      },
      "execution_count": 3,
      "outputs": []
    },
    {
      "cell_type": "code",
      "source": [
        "(raw_train_x, raw_train_y), (raw_test_x, raw_test_y) = tf.keras.datasets.cifar10.load_data()\n",
        "\n",
        "\"\"\"\n",
        "print(raw_train_x.shape)\n",
        "print(raw_test_x.shape)\n",
        "print(raw_train_y.shape)\n",
        "print(raw_test_y.shape)\n",
        "\"\"\""
      ],
      "metadata": {
        "id": "0ptbBJ19JRz_",
        "colab": {
          "base_uri": "https://localhost:8080/",
          "height": 90
        },
        "outputId": "9adf932c-be20-4554-91bb-6813b063bc63"
      },
      "execution_count": 4,
      "outputs": [
        {
          "output_type": "stream",
          "name": "stdout",
          "text": [
            "Downloading data from https://www.cs.toronto.edu/~kriz/cifar-10-python.tar.gz\n",
            "170500096/170498071 [==============================] - 4s 0us/step\n",
            "170508288/170498071 [==============================] - 4s 0us/step\n"
          ]
        },
        {
          "output_type": "execute_result",
          "data": {
            "text/plain": [
              "'\\nprint(raw_train_x.shape)\\nprint(raw_test_x.shape)\\nprint(raw_train_y.shape)\\nprint(raw_test_y.shape)\\n'"
            ],
            "application/vnd.google.colaboratory.intrinsic+json": {
              "type": "string"
            }
          },
          "metadata": {},
          "execution_count": 4
        }
      ]
    },
    {
      "cell_type": "code",
      "source": [
        "# float을 넣을거면 0~1 사이 값으로 바꿔야함\n",
        "train_x = raw_train_x[:45000].astype(np.float32)/255.0\n",
        "valid_x = raw_train_x[45000:].astype(np.float32)/255.0\n",
        "test_x = raw_test_x.astype(np.float32)/255.0\n",
        "\n",
        "\n",
        "train_y = raw_train_y[:45000]\n",
        "valid_y = raw_train_y[45000:]\n",
        "test_y = raw_test_y\n",
        "labels = [\"airplane\", \"automobile\", \"bird\", \"cat\", \"deer\", \"dog\", \"frog\", \"horse\", \"ship\", \"truck\"]\n",
        "\n",
        "\n",
        "\"\"\"\n",
        "print(train_x.shape)\n",
        "print(valid_x.shape)\n",
        "print(test_x.shape)\n",
        "print(train_y.shape)\n",
        "print(valid_y.shape)\n",
        "print(test_y.shape)\n",
        "\n",
        "def show_sample(i):\n",
        "  print(raw_train_y[i][0], labels[raw_train_y[i][0]])\n",
        "  plt.imshow(raw_train_x[i])\n",
        "  plt.show()\n",
        "\n",
        "for i in [2, 10, 12, 14]:\n",
        "  show_sample(i)\n",
        "\"\"\""
      ],
      "metadata": {
        "id": "Y3XsyJumvC4Z",
        "colab": {
          "base_uri": "https://localhost:8080/",
          "height": 72
        },
        "outputId": "bc487f6e-bbdd-4172-84e2-512f2cf10521"
      },
      "execution_count": 5,
      "outputs": [
        {
          "output_type": "execute_result",
          "data": {
            "text/plain": [
              "'\\nprint(train_x.shape)\\nprint(valid_x.shape)\\nprint(test_x.shape)\\nprint(train_y.shape)\\nprint(valid_y.shape)\\nprint(test_y.shape)\\n\\ndef show_sample(i):\\n  print(raw_train_y[i][0], labels[raw_train_y[i][0]])\\n  plt.imshow(raw_train_x[i])\\n  plt.show()\\n\\nfor i in [2, 10, 12, 14]:\\n  show_sample(i)\\n'"
            ],
            "application/vnd.google.colaboratory.intrinsic+json": {
              "type": "string"
            }
          },
          "metadata": {},
          "execution_count": 5
        }
      ]
    },
    {
      "cell_type": "code",
      "source": [
        "efficientnet  = EfficientNetB0(             # weights = 'imagenet',  그냥 초기화 하는거면, 이거 지우기\n",
        "                            include_top = False,\n",
        "                            input_shape=(32,32,3)\n",
        "                            )\n",
        "\n",
        "# vgg conv 구조만 사용하고 마지막 FC layer는 다른거 사용\n",
        "\n",
        "fc_layer = keras.Sequential([\n",
        "                             layers.Flatten(),\n",
        "                             layers.Dense(512, activation = 'relu'),\n",
        "                             layers.Dense(512, activation = 'relu'),\n",
        "                             layers.Dense(10, activation = \"sigmoid\")\n",
        "                             ])\n",
        "\n",
        "model = keras.Sequential([efficientnet,\n",
        "                          fc_layer\n",
        "                          ])\n",
        "\n",
        "# mobile.summary()\n",
        "# fc_layer.summary()\n"
      ],
      "metadata": {
        "id": "1nLvUwGGvQ8w",
        "colab": {
          "base_uri": "https://localhost:8080/"
        },
        "outputId": "ef9b5b40-51b5-4ad1-d18f-a78fe7f5bc9e"
      },
      "execution_count": 6,
      "outputs": [
        {
          "output_type": "stream",
          "name": "stdout",
          "text": [
            "Downloading data from https://storage.googleapis.com/keras-applications/efficientnetb0_notop.h5\n",
            "16711680/16705208 [==============================] - 0s 0us/step\n",
            "16719872/16705208 [==============================] - 0s 0us/step\n"
          ]
        }
      ]
    },
    {
      "cell_type": "code",
      "source": [
        "es = EarlyStopping(patience=20) \n",
        "mc = ModelCheckpoint(\"/check_point.h5\", save_best_only=True) \n",
        "reduce_lr  = ReduceLROnPlateau(monitor = 'val_loss',\n",
        "                               factor=0.1, \n",
        "                               patience=5\n",
        "                               ) \n",
        "csvlogger = CSVLogger(\"model_log.log\") \n",
        "\n",
        "\n",
        "# optimizer, loss 함수를 정의하고,  학습 준비를 한다,  metrics 는 어떤 일이 발생하는지 보여줄 것들\n",
        "model.compile(optimizer=\"adam\", loss=\"sparse_categorical_crossentropy\", metrics=[\"accuracy\"])\n",
        "\n",
        "\n",
        "\n",
        "# 한번에 몇개의 데이터 학습하고 가중치 갱신할지 \n",
        "model.fit(train_x, train_y,\n",
        "          epochs=1,\n",
        "          verbose=1,\n",
        "          batch_size=128,\n",
        "          #validation_split = 0.1\n",
        "          validation_data = (valid_x, valid_y),\n",
        "          callbacks = [es, mc, reduce_lr , csvlogger]\n",
        "          )\n",
        "\n",
        "# call back 참고 : https://deep-deep-deep.tistory.com/1 들어가면 여러 옵션들이 나옴"
      ],
      "metadata": {
        "colab": {
          "base_uri": "https://localhost:8080/"
        },
        "id": "yZ-LukhIvphi",
        "outputId": "129726dc-5f25-4d6d-e9e0-55d7eb20affd"
      },
      "execution_count": null,
      "outputs": [
        {
          "output_type": "stream",
          "name": "stdout",
          "text": [
            "  8/352 [..............................] - ETA: 8:05 - loss: 2.3288 - accuracy: 0.1719"
          ]
        }
      ]
    },
    {
      "cell_type": "code",
      "source": [
        "loss, acc = model.evaluate(test_x, test_y)\n",
        "print(\"loss=\",loss)\n",
        "print(\"acc=\",acc)\n",
        "\n",
        "y_ = model.predict(test_x)\n",
        "predicted = np.argmax(y_, axis=1)\n",
        "\n",
        "print(predicted)"
      ],
      "metadata": {
        "id": "sIGR4cUIFFFG"
      },
      "execution_count": null,
      "outputs": []
    },
    {
      "cell_type": "markdown",
      "source": [
        "## int_8 Quantization 진행\n",
        "\n",
        "\n"
      ],
      "metadata": {
        "id": "dWaTjCHHeZJJ"
      }
    },
    {
      "cell_type": "code",
      "source": [
        "# 구조까지 들어가 있는거\n",
        "#model_load = tf.keras.models.load_model('saved_model/my_model')"
      ],
      "metadata": {
        "id": "kR1YvGr6TqB0"
      },
      "execution_count": null,
      "outputs": []
    },
    {
      "cell_type": "code",
      "source": [
        "# input 에 대해서 변수 설정\n",
        "def representative_data_gen():\n",
        "  for input_value in tf.data.Dataset.from_tensor_slices(train_x).batch(1).take(100):\n",
        "    yield [input_value]"
      ],
      "metadata": {
        "id": "K_pCuwiQSAec"
      },
      "execution_count": null,
      "outputs": []
    },
    {
      "cell_type": "code",
      "source": [
        "# int 8 로 quantization 진행하기\n",
        "converter = tf.lite.TFLiteConverter.from_keras_model(model)\n",
        "converter.optimizations = [tf.lite.Optimize.DEFAULT]\n",
        "converter.representative_dataset = representative_data_gen\n",
        "\n",
        "# Ensure that if any ops can't be quantized, the converter throws an error\n",
        "converter.target_spec.supported_ops = [tf.lite.OpsSet.TFLITE_BUILTINS_INT8]\n",
        "\n",
        "# Set the input and output tensors to uint8 (APIs added in r2.3)\n",
        "converter.inference_input_type = tf.uint8\n",
        "converter.inference_output_type = tf.uint8\n",
        "\n",
        "tflite_model_quant = converter.convert()"
      ],
      "metadata": {
        "id": "mvxpgAD7SAvS"
      },
      "execution_count": null,
      "outputs": []
    },
    {
      "cell_type": "code",
      "source": [
        "# 그냥 파일 형태만 tflite로 변환 (float 형태임)\n",
        "converter = tf.lite.TFLiteConverter.from_keras_model(model)\n",
        "\n",
        "tflite_model = converter.convert()"
      ],
      "metadata": {
        "id": "uLjaFd7wavtS"
      },
      "execution_count": null,
      "outputs": []
    },
    {
      "cell_type": "code",
      "source": [
        "interpreter = tf.lite.Interpreter(model_content=tflite_model_quant)\n",
        "input_type = interpreter.get_input_details()[0]['dtype']\n",
        "print('input: ', input_type)\n",
        "output_type = interpreter.get_output_details()[0]['dtype']\n",
        "print('output: ', output_type)"
      ],
      "metadata": {
        "id": "8xyG2LcUUJT9"
      },
      "execution_count": null,
      "outputs": []
    },
    {
      "cell_type": "code",
      "source": [
        "# 모델 저장 해주는 과정\n",
        "import pathlib\n",
        "\n",
        "tflite_models_dir = pathlib.Path(\"/tmp/mobile_tflite_models/\")\n",
        "tflite_models_dir.mkdir(exist_ok=True, parents=True)\n",
        "\n",
        "# Save the unquantized/float model:\n",
        "tflite_model_file = tflite_models_dir/\"mobile_model.tflite\"\n",
        "tflite_model_file.write_bytes(tflite_model)\n",
        "# Save the quantized model:\n",
        "tflite_model_quant_file = tflite_models_dir/\"mobiile_model_quant.tflite\"\n",
        "tflite_model_quant_file.write_bytes(tflite_model_quant)"
      ],
      "metadata": {
        "id": "ZdR24DrHUfpg"
      },
      "execution_count": null,
      "outputs": []
    },
    {
      "cell_type": "code",
      "source": [
        "# tensorlffow lite 모델 실행 해보기"
      ],
      "metadata": {
        "id": "sAK1WC33UfxT"
      },
      "execution_count": null,
      "outputs": []
    },
    {
      "cell_type": "code",
      "source": [
        "def run_tflite_model(tflite_file, test_image_indices):\n",
        "  global test_x\n",
        "\n",
        "  # Initialize the interpreter\n",
        "  interpreter = tf.lite.Interpreter(model_path=str(tflite_file))\n",
        "  interpreter.allocate_tensors()\n",
        "\n",
        "  input_details = interpreter.get_input_details()[0]\n",
        "  output_details = interpreter.get_output_details()[0]\n",
        "\n",
        "  predictions = np.zeros((len(test_image_indices),), dtype=int)\n",
        "  for i, test_image_index in enumerate(test_image_indices):\n",
        "    test_image = test_x[test_image_index]\n",
        "    test_label = test_y[test_image_index]\n",
        "\n",
        "    # Check if the input type is quantized, then rescale input data to uint8\n",
        "    if input_details['dtype'] == np.uint8:\n",
        "      input_scale, input_zero_point = input_details[\"quantization\"]\n",
        "      test_image = test_image / input_scale + input_zero_point\n",
        "\n",
        "    test_image = np.expand_dims(test_image, axis=0).astype(input_details[\"dtype\"])\n",
        "    interpreter.set_tensor(input_details[\"index\"], test_image)\n",
        "    interpreter.invoke()\n",
        "    output = interpreter.get_tensor(output_details[\"index\"])[0]\n",
        "\n",
        "    predictions[i] = output.argmax()\n",
        "\n",
        "  return predictions"
      ],
      "metadata": {
        "id": "13myIyvtcyto"
      },
      "execution_count": null,
      "outputs": []
    },
    {
      "cell_type": "code",
      "source": [
        "def evaluate_model(tflite_file, model_type):\n",
        "  global test_x\n",
        "  global test_y\n",
        "\n",
        "  test_image_indices = range(test_x.shape[0])\n",
        "  predictions = run_tflite_model(tflite_file, test_image_indices)\n",
        "\n",
        "  accuracy = (np.sum(test_y== predictions) * 100) / len(test_x)\n",
        "\n",
        "  print('%s model accuracy is %.4f%% (Number of test samples=%d)' % (\n",
        "      model_type, accuracy, len(test_x)))"
      ],
      "metadata": {
        "id": "Lv1HJGcxcJR9"
      },
      "execution_count": null,
      "outputs": []
    },
    {
      "cell_type": "code",
      "source": [
        "evaluate_model(tflite_model_file, model_type=\"Float\")\n",
        "evaluate_model(tflite_model_quant_file, model_type=\"Quantized\")"
      ],
      "metadata": {
        "id": "bac0X0MIcJ-y"
      },
      "execution_count": null,
      "outputs": []
    },
    {
      "cell_type": "code",
      "source": [
        "import matplotlib.pylab as plt\n",
        "\n",
        "# Change this to test a different image\n",
        "test_image_index = 1\n",
        "\n",
        "## Helper function to test the models on one image\n",
        "def test_model(tflite_file, test_image_index, model_type):\n",
        "  global test_labels\n",
        "\n",
        "  predictions = run_tflite_model(tflite_file, [test_image_index])\n",
        "\n",
        "  plt.imshow(test_x[test_image_index])\n",
        "  template = model_type + \" Model \\n True:{true}, Predicted:{predict}\"\n",
        "  _ = plt.title(template.format(true= str(test_y[test_image_index]), predict=str(predictions[0])))\n",
        "  plt.grid(False)"
      ],
      "metadata": {
        "id": "wJ8BqBRecLa_"
      },
      "execution_count": null,
      "outputs": []
    },
    {
      "cell_type": "code",
      "source": [
        "test_model(tflite_model_file, test_image_index, model_type=\"Float\")"
      ],
      "metadata": {
        "id": "kgJlkK8kdnKT"
      },
      "execution_count": null,
      "outputs": []
    },
    {
      "cell_type": "code",
      "source": [
        "test_model(tflite_model_quant_file, test_image_index, model_type=\"Quantized\")"
      ],
      "metadata": {
        "id": "XWXNXX5ydpG5"
      },
      "execution_count": null,
      "outputs": []
    },
    {
      "cell_type": "markdown",
      "source": [
        "## Pruning 진행\n",
        "\n"
      ],
      "metadata": {
        "id": "xm0ntodhlF8y"
      }
    },
    {
      "cell_type": "code",
      "source": [
        "_, baseline_model_accuracy = model.evaluate(\n",
        "    test_x, test_y, verbose=0)\n",
        "\n",
        "print('Baseline test accuracy:', baseline_model_accuracy)\n",
        "\n",
        "_, keras_file = tempfile.mkstemp('.h5')\n",
        "tf.keras.models.save_model(model, keras_file, include_optimizer=False)\n",
        "print('Saved baseline model to:', keras_file)"
      ],
      "metadata": {
        "id": "IjlumF76nDzo"
      },
      "execution_count": null,
      "outputs": []
    },
    {
      "cell_type": "code",
      "source": [
        "class MyDenseLayer(tf.keras.layers.Dense, tfmot.sparsity.keras.PrunableLayer):\n",
        "\n",
        "  def get_prunable_weights(self):\n",
        "    # Prune bias also, though that usually harms model accuracy too much.\n",
        "    return [self.kernel, self.bias]\n",
        "\n",
        "# Use `prune_low_magnitude` to make the `MyDenseLayer` layer train with pruning.\n",
        "model_for_pruning = tf.keras.Sequential([\n",
        "  tfmot.sparsity.keras.prune_low_magnitude(MyDenseLayer(20, input_shape=input_shape)),\n",
        "  tf.keras.layers.Flatten()\n",
        "])\n",
        "\n",
        "model_for_pruning.summary()"
      ],
      "metadata": {
        "id": "3tESxUKGaf5Q"
      },
      "execution_count": null,
      "outputs": []
    },
    {
      "cell_type": "code",
      "source": [
        "prune_low_magnitude = tfmot.sparsity.keras.prune_low_magnitude\n",
        "\n",
        "# Compute end step to finish pruning after 2 epochs.\n",
        "batch_size = 128\n",
        "epochs = 2\n",
        "validation_split = 0.1 # 10% of training set will be used for validation set. \n",
        "\n",
        "num_images = train_x.shape[0] * (1 - validation_split)\n",
        "end_step = np.ceil(num_images / batch_size).astype(np.int32) * epochs\n",
        "\n",
        "\n",
        "# Define model for pruning.\n",
        "pruning_params = {\n",
        "      'pruning_schedule': tfmot.sparsity.keras.PolynomialDecay(initial_sparsity=0.50,\n",
        "                                                               final_sparsity=0.80,\n",
        "                                                               begin_step=0,\n",
        "                                                               end_step=end_step)\n",
        "}\n",
        "\n",
        "model_for_pruning = prune_low_magnitude(model, **pruning_params)\n",
        "\n",
        "# `prune_low_magnitude` requires a recompile.\n",
        "model_for_pruning.compile(optimizer='adam',\n",
        "              loss=tf.keras.losses.SparseCategoricalCrossentropy(from_logits=True),\n",
        "              metrics=['accuracy'])\n",
        "\n",
        "model_for_pruning.summary()"
      ],
      "metadata": {
        "id": "dET8FyEYnZdG"
      },
      "execution_count": null,
      "outputs": []
    },
    {
      "cell_type": "code",
      "source": [
        "logdir = tempfile.mkdtemp()\n",
        "\n",
        "callbacks = [\n",
        "  tfmot.sparsity.keras.UpdatePruningStep(),\n",
        "  tfmot.sparsity.keras.PruningSummaries(log_dir=logdir),\n",
        "]\n",
        "\n",
        "model_for_pruning.fit(train_x, train_,\n",
        "                  batch_size=batch_size, epochs=epochs, validation_split=validation_split,\n",
        "                  callbacks=callbacks)"
      ],
      "metadata": {
        "id": "4voFQPDRyuWG"
      },
      "execution_count": null,
      "outputs": []
    },
    {
      "cell_type": "code",
      "source": [
        "_, model_for_pruning_accuracy = model_for_pruning.evaluate(\n",
        "   test_x, test_y, verbose=0)\n",
        "\n",
        "print('Baseline test accuracy:', baseline_model_accuracy) \n",
        "print('Pruned test accuracy:', model_for_pruning_accuracy)"
      ],
      "metadata": {
        "id": "Lzpm4N3DyvEp"
      },
      "execution_count": null,
      "outputs": []
    },
    {
      "cell_type": "code",
      "source": [
        "%tensorboard --logdir={logdir}"
      ],
      "metadata": {
        "id": "i_ZkuMoWywo6"
      },
      "execution_count": null,
      "outputs": []
    },
    {
      "cell_type": "code",
      "source": [
        ""
      ],
      "metadata": {
        "id": "BtnCY7h-y0Fd"
      },
      "execution_count": null,
      "outputs": []
    },
    {
      "cell_type": "code",
      "source": [
        ""
      ],
      "metadata": {
        "id": "ZRZDWu6V4A9w"
      },
      "execution_count": null,
      "outputs": []
    },
    {
      "cell_type": "code",
      "source": [
        ""
      ],
      "metadata": {
        "id": "iTuWeu5d4BBs"
      },
      "execution_count": null,
      "outputs": []
    },
    {
      "cell_type": "code",
      "source": [
        ""
      ],
      "metadata": {
        "id": "_bF_0FHG4BHX"
      },
      "execution_count": null,
      "outputs": []
    },
    {
      "cell_type": "code",
      "source": [
        "import tempfile\n",
        "import os\n",
        "\n",
        "import tensorflow as tf\n",
        "import numpy as np\n",
        "\n",
        "from tensorflow import keras\n",
        "\n",
        "%load_ext tensorboard\n",
        "# Load MNIST dataset\n",
        "mnist = keras.datasets.mnist\n",
        "(train_images, train_labels), (test_images, test_labels) = mnist.load_data()\n",
        "\n",
        "# Normalize the input image so that each pixel value is between 0 and 1.\n",
        "train_images = train_images / 255.0\n",
        "test_images = test_images / 255.0\n",
        "\n",
        "# Define the model architecture.\n",
        "model = keras.Sequential([\n",
        "  keras.layers.InputLayer(input_shape=(28, 28)),\n",
        "  keras.layers.Reshape(target_shape=(28, 28, 1)),\n",
        "  keras.layers.Conv2D(filters=12, kernel_size=(3, 3), activation='relu'),\n",
        "  keras.layers.MaxPooling2D(pool_size=(2, 2)),\n",
        "  keras.layers.Flatten(),\n",
        "  keras.layers.Dense(10)\n",
        "])\n",
        "\n",
        "# Train the digit classification model\n",
        "model.compile(optimizer='adam',\n",
        "              loss=tf.keras.losses.SparseCategoricalCrossentropy(from_logits=True),\n",
        "              metrics=['accuracy'])\n",
        "\n",
        "model.fit(\n",
        "  train_images,\n",
        "  train_labels,\n",
        "  epochs=4,\n",
        "  validation_split=0.1,\n",
        ")\n",
        "_, baseline_model_accuracy = model.evaluate(\n",
        "    test_images, test_labels, verbose=0)\n",
        "\n",
        "print('Baseline test accuracy:', baseline_model_accuracy)\n",
        "\n",
        "_, keras_file = tempfile.mkstemp('.h5')\n",
        "tf.keras.models.save_model(model, keras_file, include_optimizer=False)\n",
        "print('Saved baseline model to:', keras_file)\n",
        "\n",
        "import tensorflow_model_optimization as tfmot\n",
        "\n",
        "prune_low_magnitude = tfmot.sparsity.keras.prune_low_magnitude\n",
        "\n",
        "# Compute end step to finish pruning after 2 epochs.\n",
        "batch_size = 128\n",
        "epochs = 2\n",
        "validation_split = 0.1 # 10% of training set will be used for validation set. \n",
        "\n",
        "num_images = train_images.shape[0] * (1 - validation_split)\n",
        "end_step = np.ceil(num_images / batch_size).astype(np.int32) * epochs\n",
        "\n",
        "# Define model for pruning.\n",
        "pruning_params = {\n",
        "      'pruning_schedule': tfmot.sparsity.keras.PolynomialDecay(initial_sparsity=0.50,\n",
        "                                                               final_sparsity=0.80,\n",
        "                                                               begin_step=0,\n",
        "                                                               end_step=end_step)\n",
        "}\n",
        "\n",
        "model_for_pruning = prune_low_magnitude(model, **pruning_params)\n",
        "\n",
        "# `prune_low_magnitude` requires a recompile.\n",
        "model_for_pruning.compile(optimizer='adam',\n",
        "              loss=tf.keras.losses.SparseCategoricalCrossentropy(from_logits=True),\n",
        "              metrics=['accuracy'])\n",
        "\n",
        "model_for_pruning.summary()\n",
        "\n",
        "logdir = tempfile.mkdtemp()\n",
        "\n",
        "callbacks = [\n",
        "  tfmot.sparsity.keras.UpdatePruningStep(),\n",
        "  tfmot.sparsity.keras.PruningSummaries(log_dir=logdir),\n",
        "]\n",
        "\n",
        "model_for_pruning.fit(train_images, train_labels,\n",
        "                  batch_size=batch_size, epochs=epochs, validation_split=validation_split,\n",
        "                  callbacks=callbacks)\n",
        "\n",
        "_, model_for_pruning_accuracy = model_for_pruning.evaluate(\n",
        "   test_images, test_labels, verbose=0)\n",
        "\n",
        "print('Baseline test accuracy:', baseline_model_accuracy) \n",
        "print('Pruned test accuracy:', model_for_pruning_accuracy)"
      ],
      "metadata": {
        "id": "ctE1qnS24BO3"
      },
      "execution_count": null,
      "outputs": []
    },
    {
      "cell_type": "code",
      "source": [
        ""
      ],
      "metadata": {
        "id": "PFMqKHpO4MR3"
      },
      "execution_count": null,
      "outputs": []
    }
  ]
}