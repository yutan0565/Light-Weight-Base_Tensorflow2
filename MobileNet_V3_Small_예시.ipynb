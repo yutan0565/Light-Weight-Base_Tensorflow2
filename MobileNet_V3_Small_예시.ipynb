{
  "nbformat": 4,
  "nbformat_minor": 0,
  "metadata": {
    "colab": {
      "name": "MobileNet_V3_Small_예시.ipynb",
      "provenance": [],
      "collapsed_sections": [],
      "mount_file_id": "1Et-iwTi6UUUc5F1_JvqO-_LjfL43QBV_",
      "authorship_tag": "ABX9TyPLcdGDJVBhiv8MKmBJnSJr",
      "include_colab_link": true
    },
    "kernelspec": {
      "name": "python3",
      "display_name": "Python 3"
    },
    "language_info": {
      "name": "python"
    }
  },
  "cells": [
    {
      "cell_type": "markdown",
      "metadata": {
        "id": "view-in-github",
        "colab_type": "text"
      },
      "source": [
        "<a href=\"https://colab.research.google.com/github/yutan0565/colab_git/blob/main/MobileNet_V3_Small_%EC%98%88%EC%8B%9C.ipynb\" target=\"_parent\"><img src=\"https://colab.research.google.com/assets/colab-badge.svg\" alt=\"Open In Colab\"/></a>"
      ]
    },
    {
      "cell_type": "markdown",
      "source": [
        "## 기본 모델 형성\n",
        "\n",
        "\n"
      ],
      "metadata": {
        "id": "2HgXJWEEeK0D"
      }
    },
    {
      "cell_type": "code",
      "source": [
        "import tensorflow as tf\n",
        "import matplotlib.pyplot as plt\n",
        "import numpy as np\n",
        "import pathlib\n",
        "import os\n",
        "import tempfile\n",
        "\n",
        "from tensorflow.keras.applications import MobileNetV3Small\n",
        "from tensorflow.keras import models\n",
        "from tensorflow.keras import layers\n",
        "from tensorflow import keras\n",
        "from tensorflow.keras.callbacks import EarlyStopping, ModelCheckpoint, ReduceLROnPlateau, CSVLogger\n",
        "\n"
      ],
      "metadata": {
        "id": "fO2RGXR2JRxq"
      },
      "execution_count": 71,
      "outputs": []
    },
    {
      "cell_type": "code",
      "source": [
        ""
      ],
      "metadata": {
        "id": "yiDpgV9LxfXe"
      },
      "execution_count": null,
      "outputs": []
    },
    {
      "cell_type": "code",
      "source": [
        "(raw_train_x, raw_train_y), (raw_test_x, raw_test_y) = tf.keras.datasets.cifar10.load_data()\n",
        "\n",
        "\"\"\"\n",
        "print(raw_train_x.shape)\n",
        "print(raw_test_x.shape)\n",
        "print(raw_train_y.shape)\n",
        "print(raw_test_y.shape)\n",
        "\"\"\""
      ],
      "metadata": {
        "id": "0ptbBJ19JRz_",
        "colab": {
          "base_uri": "https://localhost:8080/",
          "height": 35
        },
        "outputId": "95f0434b-0005-40e4-c448-9f7203f8a8f2"
      },
      "execution_count": 72,
      "outputs": [
        {
          "output_type": "execute_result",
          "data": {
            "text/plain": [
              "'\\nprint(raw_train_x.shape)\\nprint(raw_test_x.shape)\\nprint(raw_train_y.shape)\\nprint(raw_test_y.shape)\\n'"
            ],
            "application/vnd.google.colaboratory.intrinsic+json": {
              "type": "string"
            }
          },
          "metadata": {},
          "execution_count": 72
        }
      ]
    },
    {
      "cell_type": "code",
      "source": [
        "# float을 넣을거면 0~1 사이 값으로 바꿔야함\n",
        "train_x = raw_train_x[:45000].astype(np.float32)/255.0\n",
        "valid_x = raw_train_x[45000:].astype(np.float32)/255.0\n",
        "test_x = raw_test_x.astype(np.float32)/255.0\n",
        "\n",
        "\n",
        "train_y = raw_train_y[:45000]\n",
        "valid_y = raw_train_y[45000:]\n",
        "test_y = raw_test_y\n",
        "labels = [\"airplane\", \"automobile\", \"bird\", \"cat\", \"deer\", \"dog\", \"frog\", \"horse\", \"ship\", \"truck\"]\n",
        "\n",
        "\n",
        "\"\"\"\n",
        "print(train_x.shape)\n",
        "print(valid_x.shape)\n",
        "print(test_x.shape)\n",
        "print(train_y.shape)\n",
        "print(valid_y.shape)\n",
        "print(test_y.shape)\n",
        "\n",
        "def show_sample(i):\n",
        "  print(raw_train_y[i][0], labels[raw_train_y[i][0]])\n",
        "  plt.imshow(raw_train_x[i])\n",
        "  plt.show()\n",
        "\n",
        "for i in [2, 10, 12, 14]:\n",
        "  show_sample(i)\n",
        "\"\"\""
      ],
      "metadata": {
        "id": "Y3XsyJumvC4Z",
        "colab": {
          "base_uri": "https://localhost:8080/",
          "height": 54
        },
        "outputId": "b0fb4928-0132-47bd-e67b-c1df8e680c6e"
      },
      "execution_count": 73,
      "outputs": [
        {
          "output_type": "execute_result",
          "data": {
            "text/plain": [
              "'\\nprint(train_x.shape)\\nprint(valid_x.shape)\\nprint(test_x.shape)\\nprint(train_y.shape)\\nprint(valid_y.shape)\\nprint(test_y.shape)\\n\\ndef show_sample(i):\\n  print(raw_train_y[i][0], labels[raw_train_y[i][0]])\\n  plt.imshow(raw_train_x[i])\\n  plt.show()\\n\\nfor i in [2, 10, 12, 14]:\\n  show_sample(i)\\n'"
            ],
            "application/vnd.google.colaboratory.intrinsic+json": {
              "type": "string"
            }
          },
          "metadata": {},
          "execution_count": 73
        }
      ]
    },
    {
      "cell_type": "code",
      "source": [
        "mobile = MobileNetV3Small(             # weights = 'imagenet',  그냥 초기화 하는거면, 이거 지우기\n",
        "                            include_top = False,\n",
        "                            input_shape=(32,32,3)\n",
        "                            )\n",
        "\n",
        "# vgg conv 구조만 사용하고 마지막 FC layer는 다른거 사용\n",
        "\n",
        "fc_layer = keras.Sequential([\n",
        "                             layers.Flatten(),\n",
        "                             layers.Dense(512, activation = 'relu'),\n",
        "                             layers.Dense(512, activation = 'relu'),\n",
        "                             layers.Dense(10, activation = \"sigmoid\")\n",
        "                             ])\n",
        "\n",
        "model = keras.Sequential([mobile,\n",
        "                          fc_layer\n",
        "                          ])\n",
        "\n",
        "# mobile.summary()\n",
        "# fc_layer.summary()\n"
      ],
      "metadata": {
        "id": "1nLvUwGGvQ8w",
        "colab": {
          "base_uri": "https://localhost:8080/"
        },
        "outputId": "5832f0ff-dcb0-49aa-c6d7-55333eaf0ea1"
      },
      "execution_count": 74,
      "outputs": [
        {
          "output_type": "stream",
          "name": "stdout",
          "text": [
            "WARNING:tensorflow:`input_shape` is undefined or non-square, or `rows` is not 224. Weights for input shape (224, 224) will be loaded as the default.\n"
          ]
        },
        {
          "output_type": "stream",
          "name": "stderr",
          "text": [
            "WARNING:tensorflow:`input_shape` is undefined or non-square, or `rows` is not 224. Weights for input shape (224, 224) will be loaded as the default.\n"
          ]
        }
      ]
    },
    {
      "cell_type": "code",
      "source": [
        "es = EarlyStopping(patience=20) \n",
        "mc = ModelCheckpoint(\"/check_point.h5\", save_best_only=True) \n",
        "reduce_lr  = ReduceLROnPlateau(monitor = 'val_loss',\n",
        "                               factor=0.1, \n",
        "                               patience=5\n",
        "                               ) \n",
        "csvlogger = CSVLogger(\"model_log.log\") \n",
        "\n",
        "\n",
        "# optimizer, loss 함수를 정의하고,  학습 준비를 한다,  metrics 는 어떤 일이 발생하는지 보여줄 것들\n",
        "model.compile(optimizer=\"adam\", loss=\"sparse_categorical_crossentropy\", metrics=[\"accuracy\"])\n",
        "\n",
        "\n",
        "\n",
        "# 한번에 몇개의 데이터 학습하고 가중치 갱신할지 \n",
        "model.fit(train_x, train_y,\n",
        "          epochs=50,\n",
        "          verbose=1,\n",
        "          batch_size=128,\n",
        "          #validation_split = 0.1\n",
        "          validation_data = (valid_x, valid_y),\n",
        "          callbacks = [es, mc, reduce_lr , csvlogger]\n",
        "          )\n",
        "\n",
        "# call back 참고 : https://deep-deep-deep.tistory.com/1 들어가면 여러 옵션들이 나옴"
      ],
      "metadata": {
        "colab": {
          "base_uri": "https://localhost:8080/"
        },
        "id": "yZ-LukhIvphi",
        "outputId": "7f2abed6-ed22-4a5b-9c5f-cf371f61daf7"
      },
      "execution_count": 75,
      "outputs": [
        {
          "output_type": "stream",
          "name": "stdout",
          "text": [
            "Epoch 1/50\n",
            "352/352 [==============================] - 78s 206ms/step - loss: 1.8131 - accuracy: 0.3436 - val_loss: 3.1048 - val_accuracy: 0.0986 - lr: 0.0010\n",
            "Epoch 2/50\n",
            "352/352 [==============================] - 72s 204ms/step - loss: 1.3931 - accuracy: 0.4959 - val_loss: 2.6037 - val_accuracy: 0.0988 - lr: 0.0010\n",
            "Epoch 3/50\n",
            "352/352 [==============================] - 73s 206ms/step - loss: 1.2113 - accuracy: 0.5678 - val_loss: 2.8129 - val_accuracy: 0.0950 - lr: 0.0010\n",
            "Epoch 4/50\n",
            "352/352 [==============================] - 70s 200ms/step - loss: 1.1008 - accuracy: 0.6059 - val_loss: 2.9072 - val_accuracy: 0.0978 - lr: 0.0010\n",
            "Epoch 5/50\n",
            "352/352 [==============================] - 71s 202ms/step - loss: 1.0093 - accuracy: 0.6422 - val_loss: 3.4657 - val_accuracy: 0.0978 - lr: 0.0010\n",
            "Epoch 6/50\n",
            "352/352 [==============================] - 80s 228ms/step - loss: 0.9373 - accuracy: 0.6663 - val_loss: 2.5185 - val_accuracy: 0.1016 - lr: 0.0010\n",
            "Epoch 7/50\n",
            "352/352 [==============================] - 78s 221ms/step - loss: 0.8670 - accuracy: 0.6899 - val_loss: 3.0225 - val_accuracy: 0.1312 - lr: 0.0010\n",
            "Epoch 8/50\n",
            "352/352 [==============================] - 74s 209ms/step - loss: 0.8081 - accuracy: 0.7090 - val_loss: 3.1600 - val_accuracy: 0.1082 - lr: 0.0010\n",
            "Epoch 9/50\n",
            "352/352 [==============================] - 73s 206ms/step - loss: 0.7547 - accuracy: 0.7290 - val_loss: 3.9149 - val_accuracy: 0.1168 - lr: 0.0010\n",
            "Epoch 10/50\n",
            "352/352 [==============================] - 73s 207ms/step - loss: 0.6928 - accuracy: 0.7498 - val_loss: 5.9041 - val_accuracy: 0.1058 - lr: 0.0010\n",
            "Epoch 11/50\n",
            "352/352 [==============================] - 74s 209ms/step - loss: 0.6480 - accuracy: 0.7682 - val_loss: 7.7836 - val_accuracy: 0.0986 - lr: 0.0010\n",
            "Epoch 12/50\n",
            "352/352 [==============================] - 73s 207ms/step - loss: 0.4224 - accuracy: 0.8480 - val_loss: 5.1356 - val_accuracy: 0.0992 - lr: 1.0000e-04\n",
            "Epoch 13/50\n",
            "352/352 [==============================] - 71s 202ms/step - loss: 0.3312 - accuracy: 0.8799 - val_loss: 3.3380 - val_accuracy: 0.1828 - lr: 1.0000e-04\n",
            "Epoch 14/50\n",
            "352/352 [==============================] - 75s 214ms/step - loss: 0.2794 - accuracy: 0.8983 - val_loss: 3.3029 - val_accuracy: 0.2358 - lr: 1.0000e-04\n",
            "Epoch 15/50\n",
            "352/352 [==============================] - 83s 237ms/step - loss: 0.2402 - accuracy: 0.9133 - val_loss: 3.8481 - val_accuracy: 0.2660 - lr: 1.0000e-04\n",
            "Epoch 16/50\n",
            "352/352 [==============================] - 72s 204ms/step - loss: 0.2127 - accuracy: 0.9234 - val_loss: 3.7822 - val_accuracy: 0.3074 - lr: 1.0000e-04\n",
            "Epoch 17/50\n",
            "352/352 [==============================] - 72s 203ms/step - loss: 0.1771 - accuracy: 0.9391 - val_loss: 3.8886 - val_accuracy: 0.3282 - lr: 1.0000e-05\n",
            "Epoch 18/50\n",
            "352/352 [==============================] - 72s 204ms/step - loss: 0.1700 - accuracy: 0.9415 - val_loss: 3.5027 - val_accuracy: 0.3806 - lr: 1.0000e-05\n",
            "Epoch 19/50\n",
            "352/352 [==============================] - 72s 206ms/step - loss: 0.1669 - accuracy: 0.9427 - val_loss: 2.8105 - val_accuracy: 0.4564 - lr: 1.0000e-05\n",
            "Epoch 20/50\n",
            "352/352 [==============================] - 72s 204ms/step - loss: 0.1598 - accuracy: 0.9451 - val_loss: 2.4292 - val_accuracy: 0.5056 - lr: 1.0000e-05\n",
            "Epoch 21/50\n",
            "352/352 [==============================] - 72s 204ms/step - loss: 0.1569 - accuracy: 0.9460 - val_loss: 2.0599 - val_accuracy: 0.5648 - lr: 1.0000e-05\n",
            "Epoch 22/50\n",
            "352/352 [==============================] - 73s 208ms/step - loss: 0.1538 - accuracy: 0.9477 - val_loss: 1.9046 - val_accuracy: 0.5964 - lr: 1.0000e-05\n",
            "Epoch 23/50\n",
            "352/352 [==============================] - 73s 207ms/step - loss: 0.1519 - accuracy: 0.9480 - val_loss: 1.8276 - val_accuracy: 0.6116 - lr: 1.0000e-05\n",
            "Epoch 24/50\n",
            "352/352 [==============================] - 74s 209ms/step - loss: 0.1506 - accuracy: 0.9478 - val_loss: 1.8429 - val_accuracy: 0.6182 - lr: 1.0000e-05\n",
            "Epoch 25/50\n",
            "352/352 [==============================] - 71s 203ms/step - loss: 0.1482 - accuracy: 0.9491 - val_loss: 1.8708 - val_accuracy: 0.6198 - lr: 1.0000e-05\n",
            "Epoch 26/50\n",
            "352/352 [==============================] - 72s 206ms/step - loss: 0.1451 - accuracy: 0.9499 - val_loss: 1.8644 - val_accuracy: 0.6210 - lr: 1.0000e-05\n",
            "Epoch 27/50\n",
            "352/352 [==============================] - 73s 208ms/step - loss: 0.1421 - accuracy: 0.9508 - val_loss: 1.8518 - val_accuracy: 0.6290 - lr: 1.0000e-05\n",
            "Epoch 28/50\n",
            "352/352 [==============================] - 74s 209ms/step - loss: 0.1417 - accuracy: 0.9504 - val_loss: 1.7837 - val_accuracy: 0.6418 - lr: 1.0000e-05\n",
            "Epoch 29/50\n",
            "352/352 [==============================] - 71s 203ms/step - loss: 0.1345 - accuracy: 0.9534 - val_loss: 1.8166 - val_accuracy: 0.6440 - lr: 1.0000e-05\n",
            "Epoch 30/50\n",
            "352/352 [==============================] - 71s 203ms/step - loss: 0.1321 - accuracy: 0.9548 - val_loss: 1.8828 - val_accuracy: 0.6364 - lr: 1.0000e-05\n",
            "Epoch 31/50\n",
            "352/352 [==============================] - 74s 209ms/step - loss: 0.1313 - accuracy: 0.9548 - val_loss: 1.9011 - val_accuracy: 0.6358 - lr: 1.0000e-05\n",
            "Epoch 32/50\n",
            "352/352 [==============================] - 75s 214ms/step - loss: 0.1297 - accuracy: 0.9562 - val_loss: 2.0041 - val_accuracy: 0.6276 - lr: 1.0000e-05\n",
            "Epoch 33/50\n",
            "352/352 [==============================] - 72s 204ms/step - loss: 0.1271 - accuracy: 0.9563 - val_loss: 1.9888 - val_accuracy: 0.6302 - lr: 1.0000e-05\n",
            "Epoch 34/50\n",
            "352/352 [==============================] - 71s 203ms/step - loss: 0.1239 - accuracy: 0.9576 - val_loss: 1.9219 - val_accuracy: 0.6384 - lr: 1.0000e-06\n",
            "Epoch 35/50\n",
            "352/352 [==============================] - 72s 203ms/step - loss: 0.1249 - accuracy: 0.9576 - val_loss: 1.8898 - val_accuracy: 0.6432 - lr: 1.0000e-06\n",
            "Epoch 36/50\n",
            "352/352 [==============================] - 72s 206ms/step - loss: 0.1246 - accuracy: 0.9562 - val_loss: 1.8789 - val_accuracy: 0.6460 - lr: 1.0000e-06\n",
            "Epoch 37/50\n",
            "352/352 [==============================] - 71s 202ms/step - loss: 0.1235 - accuracy: 0.9583 - val_loss: 1.8770 - val_accuracy: 0.6456 - lr: 1.0000e-06\n",
            "Epoch 38/50\n",
            "352/352 [==============================] - 71s 203ms/step - loss: 0.1221 - accuracy: 0.9586 - val_loss: 1.8746 - val_accuracy: 0.6486 - lr: 1.0000e-06\n",
            "Epoch 39/50\n",
            "352/352 [==============================] - 72s 204ms/step - loss: 0.1227 - accuracy: 0.9576 - val_loss: 1.8766 - val_accuracy: 0.6480 - lr: 1.0000e-07\n",
            "Epoch 40/50\n",
            "352/352 [==============================] - 73s 208ms/step - loss: 0.1265 - accuracy: 0.9573 - val_loss: 1.8777 - val_accuracy: 0.6480 - lr: 1.0000e-07\n",
            "Epoch 41/50\n",
            "352/352 [==============================] - 73s 208ms/step - loss: 0.1259 - accuracy: 0.9556 - val_loss: 1.8789 - val_accuracy: 0.6476 - lr: 1.0000e-07\n",
            "Epoch 42/50\n",
            "352/352 [==============================] - 73s 208ms/step - loss: 0.1239 - accuracy: 0.9577 - val_loss: 1.8793 - val_accuracy: 0.6474 - lr: 1.0000e-07\n",
            "Epoch 43/50\n",
            "352/352 [==============================] - 72s 206ms/step - loss: 0.1202 - accuracy: 0.9596 - val_loss: 1.8797 - val_accuracy: 0.6468 - lr: 1.0000e-07\n",
            "Epoch 44/50\n",
            "352/352 [==============================] - 73s 208ms/step - loss: 0.1236 - accuracy: 0.9576 - val_loss: 1.8806 - val_accuracy: 0.6462 - lr: 1.0000e-08\n",
            "Epoch 45/50\n",
            "352/352 [==============================] - 72s 205ms/step - loss: 0.1237 - accuracy: 0.9574 - val_loss: 1.8811 - val_accuracy: 0.6458 - lr: 1.0000e-08\n",
            "Epoch 46/50\n",
            "352/352 [==============================] - 73s 207ms/step - loss: 0.1250 - accuracy: 0.9574 - val_loss: 1.8812 - val_accuracy: 0.6462 - lr: 1.0000e-08\n",
            "Epoch 47/50\n",
            "352/352 [==============================] - 72s 205ms/step - loss: 0.1204 - accuracy: 0.9590 - val_loss: 1.8822 - val_accuracy: 0.6460 - lr: 1.0000e-08\n",
            "Epoch 48/50\n",
            "352/352 [==============================] - 73s 206ms/step - loss: 0.1238 - accuracy: 0.9574 - val_loss: 1.8819 - val_accuracy: 0.6460 - lr: 1.0000e-08\n"
          ]
        },
        {
          "output_type": "execute_result",
          "data": {
            "text/plain": [
              "<keras.callbacks.History at 0x7f79cfbdcc90>"
            ]
          },
          "metadata": {},
          "execution_count": 75
        }
      ]
    },
    {
      "cell_type": "code",
      "source": [
        "loss, acc = model.evaluate(test_x, test_y)\n",
        "print(\"loss=\",loss)\n",
        "print(\"acc=\",acc)\n",
        "\n",
        "y_ = model.predict(test_x)\n",
        "predicted = np.argmax(y_, axis=1)\n",
        "\n",
        "print(predicted)"
      ],
      "metadata": {
        "id": "sIGR4cUIFFFG",
        "colab": {
          "base_uri": "https://localhost:8080/"
        },
        "outputId": "761f371c-55b5-46ad-de1c-a0f496ada9aa"
      },
      "execution_count": 76,
      "outputs": [
        {
          "output_type": "stream",
          "name": "stdout",
          "text": [
            "313/313 [==============================] - 6s 18ms/step - loss: 1.9111 - accuracy: 0.6372\n",
            "loss= 1.9110753536224365\n",
            "acc= 0.6371999979019165\n",
            "[3 8 1 ... 5 0 7]\n"
          ]
        }
      ]
    },
    {
      "cell_type": "markdown",
      "source": [
        "## int_8 Quantization 진행\n",
        "\n",
        "\n"
      ],
      "metadata": {
        "id": "dWaTjCHHeZJJ"
      }
    },
    {
      "cell_type": "code",
      "source": [
        "# 구조까지 들어가 있는거\n",
        "#model_load = tf.keras.models.load_model('saved_model/my_model')"
      ],
      "metadata": {
        "id": "kR1YvGr6TqB0"
      },
      "execution_count": 77,
      "outputs": []
    },
    {
      "cell_type": "code",
      "source": [
        "# input 에 대해서 변수 설정\n",
        "def representative_data_gen():\n",
        "  for input_value in tf.data.Dataset.from_tensor_slices(train_x).batch(1).take(100):\n",
        "    yield [input_value]"
      ],
      "metadata": {
        "id": "K_pCuwiQSAec"
      },
      "execution_count": 78,
      "outputs": []
    },
    {
      "cell_type": "code",
      "source": [
        "# int 8 로 quantization 진행하기\n",
        "converter = tf.lite.TFLiteConverter.from_keras_model(model)\n",
        "converter.optimizations = [tf.lite.Optimize.DEFAULT]\n",
        "converter.representative_dataset = representative_data_gen\n",
        "\n",
        "# Ensure that if any ops can't be quantized, the converter throws an error\n",
        "converter.target_spec.supported_ops = [tf.lite.OpsSet.TFLITE_BUILTINS_INT8]\n",
        "\n",
        "# Set the input and output tensors to uint8 (APIs added in r2.3)\n",
        "converter.inference_input_type = tf.uint8\n",
        "converter.inference_output_type = tf.uint8\n",
        "\n",
        "tflite_model_quant = converter.convert()"
      ],
      "metadata": {
        "colab": {
          "base_uri": "https://localhost:8080/"
        },
        "id": "mvxpgAD7SAvS",
        "outputId": "41c40aca-9ed8-4956-ad94-4769a6827ff4"
      },
      "execution_count": 79,
      "outputs": [
        {
          "output_type": "stream",
          "name": "stderr",
          "text": [
            "WARNING:absl:Function `_wrapped_model` contains input name(s) MobilenetV3small_input with unsupported characters which will be renamed to mobilenetv3small_input in the SavedModel.\n"
          ]
        },
        {
          "output_type": "stream",
          "name": "stdout",
          "text": [
            "INFO:tensorflow:Assets written to: /tmp/tmpkt9c72tp/assets\n"
          ]
        },
        {
          "output_type": "stream",
          "name": "stderr",
          "text": [
            "INFO:tensorflow:Assets written to: /tmp/tmpkt9c72tp/assets\n",
            "/usr/local/lib/python3.7/dist-packages/tensorflow/lite/python/convert.py:746: UserWarning: Statistics for quantized inputs were expected, but not specified; continuing anyway.\n",
            "  warnings.warn(\"Statistics for quantized inputs were expected, but not \"\n",
            "WARNING:absl:Buffer deduplication procedure will be skipped when flatbuffer library is not properly loaded\n"
          ]
        }
      ]
    },
    {
      "cell_type": "code",
      "source": [
        "# 그냥 파일 형태만 tflite로 변환 (float 형태임)\n",
        "converter = tf.lite.TFLiteConverter.from_keras_model(model)\n",
        "\n",
        "tflite_model = converter.convert()"
      ],
      "metadata": {
        "colab": {
          "base_uri": "https://localhost:8080/"
        },
        "id": "uLjaFd7wavtS",
        "outputId": "075fa6cf-b9ee-4aa0-fa35-de92f55a7399"
      },
      "execution_count": 80,
      "outputs": [
        {
          "output_type": "stream",
          "name": "stderr",
          "text": [
            "WARNING:absl:Function `_wrapped_model` contains input name(s) MobilenetV3small_input with unsupported characters which will be renamed to mobilenetv3small_input in the SavedModel.\n"
          ]
        },
        {
          "output_type": "stream",
          "name": "stdout",
          "text": [
            "INFO:tensorflow:Assets written to: /tmp/tmpaxkiqzoz/assets\n"
          ]
        },
        {
          "output_type": "stream",
          "name": "stderr",
          "text": [
            "INFO:tensorflow:Assets written to: /tmp/tmpaxkiqzoz/assets\n",
            "WARNING:absl:Buffer deduplication procedure will be skipped when flatbuffer library is not properly loaded\n"
          ]
        }
      ]
    },
    {
      "cell_type": "code",
      "source": [
        "interpreter = tf.lite.Interpreter(model_content=tflite_model_quant)\n",
        "input_type = interpreter.get_input_details()[0]['dtype']\n",
        "print('input: ', input_type)\n",
        "output_type = interpreter.get_output_details()[0]['dtype']\n",
        "print('output: ', output_type)"
      ],
      "metadata": {
        "colab": {
          "base_uri": "https://localhost:8080/"
        },
        "id": "8xyG2LcUUJT9",
        "outputId": "6f5cc239-9f59-45d6-a1b4-9a0a665bb6b7"
      },
      "execution_count": 81,
      "outputs": [
        {
          "output_type": "stream",
          "name": "stdout",
          "text": [
            "input:  <class 'numpy.uint8'>\n",
            "output:  <class 'numpy.uint8'>\n"
          ]
        }
      ]
    },
    {
      "cell_type": "code",
      "source": [
        "# 모델 저장 해주는 과정\n",
        "import pathlib\n",
        "\n",
        "tflite_models_dir = pathlib.Path(\"/tmp/mobile_tflite_models/\")\n",
        "tflite_models_dir.mkdir(exist_ok=True, parents=True)\n",
        "\n",
        "# Save the unquantized/float model:\n",
        "tflite_model_file = tflite_models_dir/\"mobile_model.tflite\"\n",
        "tflite_model_file.write_bytes(tflite_model)\n",
        "# Save the quantized model:\n",
        "tflite_model_quant_file = tflite_models_dir/\"mobiile_model_quant.tflite\"\n",
        "tflite_model_quant_file.write_bytes(tflite_model_quant)"
      ],
      "metadata": {
        "colab": {
          "base_uri": "https://localhost:8080/"
        },
        "id": "ZdR24DrHUfpg",
        "outputId": "8af2c274-c25d-4858-a9ba-0e4c8cc6b206"
      },
      "execution_count": 82,
      "outputs": [
        {
          "output_type": "execute_result",
          "data": {
            "text/plain": [
              "1796048"
            ]
          },
          "metadata": {},
          "execution_count": 82
        }
      ]
    },
    {
      "cell_type": "code",
      "source": [
        "# tensorlffow lite 모델 실행 해보기"
      ],
      "metadata": {
        "id": "sAK1WC33UfxT"
      },
      "execution_count": 83,
      "outputs": []
    },
    {
      "cell_type": "code",
      "source": [
        "def run_tflite_model(tflite_file, test_image_indices):\n",
        "  global test_x\n",
        "\n",
        "  # Initialize the interpreter\n",
        "  interpreter = tf.lite.Interpreter(model_path=str(tflite_file))\n",
        "  interpreter.allocate_tensors()\n",
        "\n",
        "  input_details = interpreter.get_input_details()[0]\n",
        "  output_details = interpreter.get_output_details()[0]\n",
        "\n",
        "  predictions = np.zeros((len(test_image_indices),), dtype=int)\n",
        "  for i, test_image_index in enumerate(test_image_indices):\n",
        "    test_image = test_x[test_image_index]\n",
        "    test_label = test_y[test_image_index]\n",
        "\n",
        "    # Check if the input type is quantized, then rescale input data to uint8\n",
        "    if input_details['dtype'] == np.uint8:\n",
        "      input_scale, input_zero_point = input_details[\"quantization\"]\n",
        "      test_image = test_image / input_scale + input_zero_point\n",
        "\n",
        "    test_image = np.expand_dims(test_image, axis=0).astype(input_details[\"dtype\"])\n",
        "    interpreter.set_tensor(input_details[\"index\"], test_image)\n",
        "    interpreter.invoke()\n",
        "    output = interpreter.get_tensor(output_details[\"index\"])[0]\n",
        "\n",
        "    predictions[i] = output.argmax()\n",
        "\n",
        "  return predictions"
      ],
      "metadata": {
        "id": "13myIyvtcyto"
      },
      "execution_count": 84,
      "outputs": []
    },
    {
      "cell_type": "code",
      "source": [
        "def evaluate_model(tflite_file, model_type):\n",
        "  global test_x\n",
        "  global test_y\n",
        "\n",
        "  test_image_indices = range(test_x.shape[0])\n",
        "  predictions = run_tflite_model(tflite_file, test_image_indices)\n",
        "\n",
        "  accuracy = (np.sum(test_y== predictions) * 100) / len(test_x)\n",
        "\n",
        "  print('%s model accuracy is %.4f%% (Number of test samples=%d)' % (\n",
        "      model_type, accuracy, len(test_x)))"
      ],
      "metadata": {
        "id": "Lv1HJGcxcJR9"
      },
      "execution_count": 85,
      "outputs": []
    },
    {
      "cell_type": "code",
      "source": [
        "evaluate_model(tflite_model_file, model_type=\"Float\")\n",
        "evaluate_model(tflite_model_quant_file, model_type=\"Quantized\")"
      ],
      "metadata": {
        "colab": {
          "base_uri": "https://localhost:8080/"
        },
        "id": "bac0X0MIcJ-y",
        "outputId": "7c880360-c167-485b-8ffc-1d121ed55b46"
      },
      "execution_count": 86,
      "outputs": [
        {
          "output_type": "stream",
          "name": "stdout",
          "text": [
            "Float model accuracy is 100000.0000% (Number of test samples=10000)\n",
            "Quantized model accuracy is 100000.0000% (Number of test samples=10000)\n"
          ]
        }
      ]
    },
    {
      "cell_type": "code",
      "source": [
        "import matplotlib.pylab as plt\n",
        "\n",
        "# Change this to test a different image\n",
        "test_image_index = 1\n",
        "\n",
        "## Helper function to test the models on one image\n",
        "def test_model(tflite_file, test_image_index, model_type):\n",
        "  global test_labels\n",
        "\n",
        "  predictions = run_tflite_model(tflite_file, [test_image_index])\n",
        "\n",
        "  plt.imshow(test_x[test_image_index])\n",
        "  template = model_type + \" Model \\n True:{true}, Predicted:{predict}\"\n",
        "  _ = plt.title(template.format(true= str(test_y[test_image_index]), predict=str(predictions[0])))\n",
        "  plt.grid(False)"
      ],
      "metadata": {
        "id": "wJ8BqBRecLa_"
      },
      "execution_count": 87,
      "outputs": []
    },
    {
      "cell_type": "code",
      "source": [
        "test_model(tflite_model_file, test_image_index, model_type=\"Float\")"
      ],
      "metadata": {
        "colab": {
          "base_uri": "https://localhost:8080/",
          "height": 296
        },
        "id": "kgJlkK8kdnKT",
        "outputId": "5383d97a-ad6f-4b9f-e627-42710b500a44"
      },
      "execution_count": 88,
      "outputs": [
        {
          "output_type": "display_data",
          "data": {
            "text/plain": [
              "<Figure size 432x288 with 1 Axes>"
            ],
            "image/png": "[encoded data removed]"
          },
          "metadata": {
            "needs_background": "light"
          }
        }
      ]
    },
    {
      "cell_type": "code",
      "source": [
        "test_model(tflite_model_quant_file, test_image_index, model_type=\"Quantized\")"
      ],
      "metadata": {
        "colab": {
          "base_uri": "https://localhost:8080/",
          "height": 296
        },
        "id": "XWXNXX5ydpG5",
        "outputId": "3290a9ee-4112-4a30-9daf-800629bc986d"
      },
      "execution_count": 89,
      "outputs": [
        {
          "output_type": "display_data",
          "data": {
            "text/plain": [
              "<Figure size 432x288 with 1 Axes>"
            ],
            "image/png": "[encoded data removed]"
          },
          "metadata": {
            "needs_background": "light"
          }
        }
      ]
    },
    {
      "cell_type": "markdown",
      "source": [
        "## int_16 Quantization 진행\n",
        "\n",
        "\n"
      ],
      "metadata": {
        "id": "BsbJIZaRe4Up"
      }
    },
    {
      "cell_type": "markdown",
      "source": [
        "## Pruning 진행\n",
        "\n"
      ],
      "metadata": {
        "id": "xm0ntodhlF8y"
      }
    },
    {
      "cell_type": "code",
      "source": [
        "!pip install -q tensorflow-model-optimization"
      ],
      "metadata": {
        "id": "8EnqfCdBlKSl",
        "outputId": "d44e86bf-a590-4e8d-c000-e8f60773a676",
        "colab": {
          "base_uri": "https://localhost:8080/"
        }
      },
      "execution_count": 90,
      "outputs": [
        {
          "output_type": "stream",
          "name": "stdout",
          "text": [
            "\u001b[?25l\r\u001b[K     |█▍                              | 10 kB 21.2 MB/s eta 0:00:01\r\u001b[K     |██▊                             | 20 kB 15.5 MB/s eta 0:00:01\r\u001b[K     |████▏                           | 30 kB 11.3 MB/s eta 0:00:01\r\u001b[K     |█████▌                          | 40 kB 9.6 MB/s eta 0:00:01\r\u001b[K     |███████                         | 51 kB 4.6 MB/s eta 0:00:01\r\u001b[K     |████████▎                       | 61 kB 5.4 MB/s eta 0:00:01\r\u001b[K     |█████████▋                      | 71 kB 5.7 MB/s eta 0:00:01\r\u001b[K     |███████████                     | 81 kB 5.9 MB/s eta 0:00:01\r\u001b[K     |████████████▍                   | 92 kB 6.5 MB/s eta 0:00:01\r\u001b[K     |█████████████▉                  | 102 kB 5.1 MB/s eta 0:00:01\r\u001b[K     |███████████████▏                | 112 kB 5.1 MB/s eta 0:00:01\r\u001b[K     |████████████████▌               | 122 kB 5.1 MB/s eta 0:00:01\r\u001b[K     |██████████████████              | 133 kB 5.1 MB/s eta 0:00:01\r\u001b[K     |███████████████████▎            | 143 kB 5.1 MB/s eta 0:00:01\r\u001b[K     |████████████████████▊           | 153 kB 5.1 MB/s eta 0:00:01\r\u001b[K     |██████████████████████          | 163 kB 5.1 MB/s eta 0:00:01\r\u001b[K     |███████████████████████▌        | 174 kB 5.1 MB/s eta 0:00:01\r\u001b[K     |████████████████████████▉       | 184 kB 5.1 MB/s eta 0:00:01\r\u001b[K     |██████████████████████████▏     | 194 kB 5.1 MB/s eta 0:00:01\r\u001b[K     |███████████████████████████▋    | 204 kB 5.1 MB/s eta 0:00:01\r\u001b[K     |█████████████████████████████   | 215 kB 5.1 MB/s eta 0:00:01\r\u001b[K     |██████████████████████████████▍ | 225 kB 5.1 MB/s eta 0:00:01\r\u001b[K     |███████████████████████████████▊| 235 kB 5.1 MB/s eta 0:00:01\r\u001b[K     |████████████████████████████████| 237 kB 5.1 MB/s \n",
            "\u001b[?25h"
          ]
        }
      ]
    },
    {
      "cell_type": "code",
      "source": [
        "_, baseline_model_accuracy = model.evaluate(\n",
        "    test_x, test_y, verbose=0)\n",
        "\n",
        "print('Baseline test accuracy:', baseline_model_accuracy)\n",
        "\n",
        "_, keras_file = tempfile.mkstemp('.h5')\n",
        "tf.keras.models.save_model(model, keras_file, include_optimizer=False)\n",
        "print('Saved baseline model to:', keras_file)"
      ],
      "metadata": {
        "id": "IjlumF76nDzo",
        "outputId": "d6bf6333-22d7-41a1-b06e-e5aabb0408b7",
        "colab": {
          "base_uri": "https://localhost:8080/",
          "height": 266
        }
      },
      "execution_count": 91,
      "outputs": [
        {
          "output_type": "stream",
          "name": "stdout",
          "text": [
            "Baseline test accuracy: 0.6371999979019165\n"
          ]
        },
        {
          "output_type": "error",
          "ename": "NameError",
          "evalue": "ignored",
          "traceback": [
            "\u001b[0;31m---------------------------------------------------------------------------\u001b[0m",
            "\u001b[0;31mNameError\u001b[0m                                 Traceback (most recent call last)",
            "\u001b[0;32m<ipython-input-91-08f0015bf613>\u001b[0m in \u001b[0;36m<module>\u001b[0;34m()\u001b[0m\n\u001b[1;32m      4\u001b[0m \u001b[0mprint\u001b[0m\u001b[0;34m(\u001b[0m\u001b[0;34m'Baseline test accuracy:'\u001b[0m\u001b[0;34m,\u001b[0m \u001b[0mbaseline_model_accuracy\u001b[0m\u001b[0;34m)\u001b[0m\u001b[0;34m\u001b[0m\u001b[0;34m\u001b[0m\u001b[0m\n\u001b[1;32m      5\u001b[0m \u001b[0;34m\u001b[0m\u001b[0m\n\u001b[0;32m----> 6\u001b[0;31m \u001b[0m_\u001b[0m\u001b[0;34m,\u001b[0m \u001b[0mkeras_file\u001b[0m \u001b[0;34m=\u001b[0m \u001b[0mtempfile\u001b[0m\u001b[0;34m.\u001b[0m\u001b[0mmkstemp\u001b[0m\u001b[0;34m(\u001b[0m\u001b[0;34m'.h5'\u001b[0m\u001b[0;34m)\u001b[0m\u001b[0;34m\u001b[0m\u001b[0;34m\u001b[0m\u001b[0m\n\u001b[0m\u001b[1;32m      7\u001b[0m \u001b[0mtf\u001b[0m\u001b[0;34m.\u001b[0m\u001b[0mkeras\u001b[0m\u001b[0;34m.\u001b[0m\u001b[0mmodels\u001b[0m\u001b[0;34m.\u001b[0m\u001b[0msave_model\u001b[0m\u001b[0;34m(\u001b[0m\u001b[0mmodel\u001b[0m\u001b[0;34m,\u001b[0m \u001b[0mkeras_file\u001b[0m\u001b[0;34m,\u001b[0m \u001b[0minclude_optimizer\u001b[0m\u001b[0;34m=\u001b[0m\u001b[0;32mFalse\u001b[0m\u001b[0;34m)\u001b[0m\u001b[0;34m\u001b[0m\u001b[0;34m\u001b[0m\u001b[0m\n\u001b[1;32m      8\u001b[0m \u001b[0mprint\u001b[0m\u001b[0;34m(\u001b[0m\u001b[0;34m'Saved baseline model to:'\u001b[0m\u001b[0;34m,\u001b[0m \u001b[0mkeras_file\u001b[0m\u001b[0;34m)\u001b[0m\u001b[0;34m\u001b[0m\u001b[0;34m\u001b[0m\u001b[0m\n",
            "\u001b[0;31mNameError\u001b[0m: name 'tempfile' is not defined"
          ]
        }
      ]
    },
    {
      "cell_type": "code",
      "source": [
        ""
      ],
      "metadata": {
        "id": "dET8FyEYnZdG"
      },
      "execution_count": null,
      "outputs": []
    }
  ]
}